{
 "cells": [
  {
   "cell_type": "code",
   "execution_count": 1,
   "metadata": {
    "collapsed": true
   },
   "outputs": [],
   "source": [
    "import py2neo as pn\n",
    "import networkx as nx"
   ]
  },
  {
   "cell_type": "code",
   "execution_count": 2,
   "metadata": {},
   "outputs": [],
   "source": [
    "pn.authenticate(\"localhost:7474\",\"neo4j\",\"pxyon123\")\n",
    "\t\n",
    "dbGraph = pn.Graph()"
   ]
  },
  {
   "cell_type": "code",
   "execution_count": 3,
   "metadata": {},
   "outputs": [],
   "source": [
    "class MemGraph(nx.Graph):\n",
    "\tdef fromGraphDB(self, dbGraph:pn.Graph, idPdb:str) -> bool:\n",
    "\t\tres = dbGraph.data(f\"\"\"\n",
    "\t\t\t\tMATCH (c1:CAlpha {{ IdPDB:'{idPdb}' }} )-[rela:NEAR_10A]-(c2)\n",
    "\t\t\t\tRETURN id(c1) as c1, id(rela) as r, id(c2) as c2, rela.Dist as dist\n",
    "\t\t\t\t\"\"\")\n",
    "\t\tfor rel in res:\n",
    "\t\t\tself.add_edge(rel['c1'], rel['c2'], Dist=rel['dist'])\n",
    "\t\t\n",
    "\t\treturn len(res) > 0"
   ]
  },
  {
   "cell_type": "code",
   "execution_count": 4,
   "metadata": {},
   "outputs": [
    {
     "data": {
      "text/plain": [
       "True"
      ]
     },
     "execution_count": 4,
     "metadata": {},
     "output_type": "execute_result"
    }
   ],
   "source": [
    "gProt = MemGraph()\n",
    "gProt.fromGraphDB( dbGraph, '5O75')"
   ]
  },
  {
   "cell_type": "code",
   "execution_count": 20,
   "metadata": {},
   "outputs": [
    {
     "name": "stdout",
     "output_type": "stream",
     "text": [
      "(9203, 9204, {'Dist': 3.7947255500233488})\n<class 'tuple'>\n{'Dist': 3.7947255500233488}\n3.7947255500233488\n(9203, 9210, {'Dist': 5.495581224947906})\n<class 'tuple'>\n{'Dist': 5.495581224947906}\n5.495581224947906\n(9203, 9205, {'Dist': 6.5953096212384095})\n<class 'tuple'>\n{'Dist': 6.5953096212384095}\n6.5953096212384095\n(9203, 9212, {'Dist': 5.96172080862564})\n<class 'tuple'>\n{'Dist': 5.96172080862564}\n5.96172080862564\n(9203, 9211, {'Dist': 5.641861040472363})\n<class 'tuple'>\n{'Dist': 5.641861040472363}\n5.641861040472363\n"
     ]
    }
   ],
   "source": [
    "for n, edg in enumerate(gProt.edges(data=True)):\n",
    "\tif n < 5:\n",
    "\t\tprint(edg)\n",
    "\t\tprint(type(edg))\n",
    "\t\tprint(edg[2])\n",
    "\t\tprint(edg[2]['Dist'])"
   ]
  },
  {
   "cell_type": "code",
   "execution_count": 21,
   "metadata": {},
   "outputs": [],
   "source": [
    "protEdges = gProt.edges(data=True)"
   ]
  },
  {
   "cell_type": "code",
   "execution_count": 24,
   "metadata": {},
   "outputs": [
    {
     "data": {
      "text/plain": [
       "[3.7947255500233488,\n 3.799291512900795,\n 3.8036607367114112,\n 3.7977794828030786,\n 3.8164436324934794,\n 3.8281648344866244,\n 3.7684971805747707,\n 3.7728050572485152,\n 3.8397160051232957,\n 3.8032236326569007,\n 3.8425291150490968,\n 3.809360707520355,\n 3.7938278822318763,\n 3.818954568988745,\n 3.8187602700352947,\n 3.8346625666412995,\n 3.8061417472290784,\n 3.818972767643153,\n 3.7917917928071962,\n 3.8095990602686776,\n 3.8009655352291776,\n 3.8419518476940806,\n 3.818039942169283,\n 3.7745476550177552,\n 3.8007953115104725,\n 3.824142518264715,\n 3.8003844542361858,\n 3.7502582577737185,\n 3.8354547318408008,\n 3.849065081289221,\n 3.811470057602441,\n 3.823149225442301,\n 3.803625244421435,\n 3.75972778269917,\n 3.8004355013603406,\n 3.790611164443009,\n 3.818510442567894,\n 3.809922571391708,\n 3.8073767872381654,\n 3.8066402509299517,\n 3.7863491650929495,\n 3.786198885425852,\n 3.8168020645561365,\n 3.8078630490079353,\n 3.857016074635933,\n 3.8021643836109997,\n 3.799115818187168,\n 3.77959706847173,\n 3.8209035580605826,\n 3.8260243072934053,\n 3.7976405833095876,\n 3.8151982910459545,\n 3.758706825491981,\n 3.8252282284852,\n 3.8198740816943135,\n 3.8604648683804887,\n 3.820597204626527,\n 3.7959643043632547,\n 3.822690806225379,\n 3.8383925020768768,\n 3.804978055127255,\n 3.802421728319993,\n 3.802000920568009,\n 3.83731273158705,\n 3.810370454430915,\n 3.8260938305274275,\n 3.802802387713567,\n 3.823587582362932,\n 3.8402201759795016,\n 3.796807869776928]"
      ]
     },
     "execution_count": 24,
     "metadata": {},
     "output_type": "execute_result"
    }
   ],
   "source": [
    "le = [ x[2]['Dist'] for x in protEdges if x[2]['Dist'] < 4]\n",
    "le"
   ]
  },
  {
   "cell_type": "code",
   "execution_count": 28,
   "metadata": {},
   "outputs": [
    {
     "data": {
      "text/plain": [
       "[(9203, 9204),\n (9203, 9240),\n (9203, 9202),\n (9204, 9210),\n (9204, 9205),\n (9210, 9211),\n (9210, 9209),\n (9205, 9206),\n (9212, 9211),\n (9212, 9202),\n (9212, 9199),\n (9212, 9213),\n (9211, 9192),\n (9238, 9237),\n (9238, 9239),\n (9213, 9214),\n (9240, 9239),\n (9240, 9241),\n (9241, 9242),\n (9201, 9202),\n (9201, 9200),\n (9186, 9185),\n (9186, 9187),\n (9198, 9197),\n (9198, 9199),\n (9198, 9191),\n (9191, 9192),\n (9191, 9190),\n (9190, 9189),\n (9188, 9187),\n (9188, 9189),\n (9228, 9229),\n (9228, 9227),\n (9226, 9225),\n (9226, 9227),\n (9230, 9229),\n (9230, 9231),\n (9245, 9244),\n (9245, 9246),\n (9199, 9200),\n (9242, 9243),\n (9243, 9244),\n (9244, 9247),\n (9246, 9247),\n (9247, 9248),\n (9247, 9250),\n (9248, 9251),\n (9248, 9249),\n (9249, 9250),\n (9234, 9233),\n (9234, 9235),\n (9220, 9219),\n (9220, 9221),\n (9220, 9223),\n (9224, 9223),\n (9224, 9225),\n (9225, 9233),\n (9225, 9232),\n (9233, 9232),\n (9232, 9231),\n (9236, 9237),\n (9236, 9235),\n (9219, 9216),\n (9219, 9218),\n (9216, 9217),\n (9216, 9215),\n (9215, 9214),\n (9218, 9217),\n (9223, 9222),\n (9221, 9222),\n (9209, 9208),\n (9193, 9194),\n (9193, 9192),\n (9194, 9195),\n (9195, 9196),\n (9196, 9197),\n (9206, 9207),\n (9254, 9255),\n (9254, 9253),\n (9250, 9251),\n (9252, 9251),\n (9252, 9253),\n (9208, 9207)]"
      ]
     },
     "execution_count": 28,
     "metadata": {},
     "output_type": "execute_result"
    }
   ],
   "source": [
    "g5Edges = [ (x[0],x[1]) for x in protEdges if x[2]['Dist'] <= 5 ]\n",
    "g5Edges"
   ]
  },
  {
   "cell_type": "code",
   "execution_count": 29,
   "metadata": {},
   "outputs": [],
   "source": [
    "g5 = gProt.edge_subgraph(g5Edges)"
   ]
  },
  {
   "cell_type": "code",
   "execution_count": 30,
   "metadata": {},
   "outputs": [],
   "source": [
    "nx.draw(g5)"
   ]
  },
  {
   "cell_type": "code",
   "execution_count": null,
   "metadata": {},
   "outputs": [],
   "source": []
  }
 ],
 "metadata": {
  "kernelspec": {
   "display_name": "Python 2",
   "language": "python",
   "name": "python2"
  },
  "language_info": {
   "codemirror_mode": {
    "name": "ipython",
    "version": 2
   },
   "file_extension": ".py",
   "mimetype": "text/x-python",
   "name": "python",
   "nbconvert_exporter": "python",
   "pygments_lexer": "ipython2",
   "version": "2.7.6"
  }
 },
 "nbformat": 4,
 "nbformat_minor": 0
}
