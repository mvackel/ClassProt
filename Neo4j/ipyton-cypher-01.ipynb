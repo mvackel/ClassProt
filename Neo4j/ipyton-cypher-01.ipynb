{
 "cells": [
  {
   "cell_type": "code",
   "execution_count": 3,
   "metadata": {
    "collapsed": true
   },
   "outputs": [],
   "source": [
    "a = 3\n"
   ]
  },
  {
   "cell_type": "code",
   "execution_count": 4,
   "metadata": {},
   "outputs": [
    {
     "data": {
      "text/plain": [
       "3"
      ]
     },
     "execution_count": 4,
     "metadata": {},
     "output_type": "execute_result"
    }
   ],
   "source": [
    "a"
   ]
  },
  {
   "cell_type": "code",
   "execution_count": 5,
   "metadata": {},
   "outputs": [],
   "source": [
    "%load_ext cypher"
   ]
  },
  {
   "cell_type": "code",
   "execution_count": 6,
   "metadata": {},
   "outputs": [
    {
     "name": "stdout",
     "output_type": "stream",
     "text": [
      "Format: (http|https)://username:password@hostname:port/db/name\n"
     ]
    },
    {
     "ename": "StatusException",
     "evalue": "Code [401]: Unauthorized. No permission -- see authorization schemes.\nAuthorization Required",
     "traceback": [
      "\u001b[1;31m---------------------------------------------------------------------------\u001b[0m",
      "\u001b[1;31mStatusException\u001b[0m                           Traceback (most recent call last)",
      "\u001b[1;32m<ipython-input-6-cc2af2b6c1a7>\u001b[0m in \u001b[0;36m<module>\u001b[1;34m()\u001b[0m\n\u001b[1;32m----> 1\u001b[1;33m \u001b[0mget_ipython\u001b[0m\u001b[1;33m(\u001b[0m\u001b[1;33m)\u001b[0m\u001b[1;33m.\u001b[0m\u001b[0mrun_cell_magic\u001b[0m\u001b[1;33m(\u001b[0m\u001b[1;34m'cypher'\u001b[0m\u001b[1;33m,\u001b[0m \u001b[1;34m''\u001b[0m\u001b[1;33m,\u001b[0m \u001b[1;34m'match path=(c:CAlpha {IdPDB:\"5O75\"})-[r:NEAR_10A]-(d) WHERE r.Dist<=4\\nreturn c,r,d'\u001b[0m\u001b[1;33m)\u001b[0m\u001b[1;33m\u001b[0m\u001b[0m\n\u001b[0m",
      "\u001b[1;32m~\\AppData\\Roaming\\Python\\Python36\\site-packages\\IPython\\core\\interactiveshell.py\u001b[0m in \u001b[0;36mrun_cell_magic\u001b[1;34m(self, magic_name, line, cell)\u001b[0m\n\u001b[0;32m   2129\u001b[0m             \u001b[0mmagic_arg_s\u001b[0m \u001b[1;33m=\u001b[0m \u001b[0mself\u001b[0m\u001b[1;33m.\u001b[0m\u001b[0mvar_expand\u001b[0m\u001b[1;33m(\u001b[0m\u001b[0mline\u001b[0m\u001b[1;33m,\u001b[0m \u001b[0mstack_depth\u001b[0m\u001b[1;33m)\u001b[0m\u001b[1;33m\u001b[0m\u001b[0m\n\u001b[0;32m   2130\u001b[0m             \u001b[1;32mwith\u001b[0m \u001b[0mself\u001b[0m\u001b[1;33m.\u001b[0m\u001b[0mbuiltin_trap\u001b[0m\u001b[1;33m:\u001b[0m\u001b[1;33m\u001b[0m\u001b[0m\n\u001b[1;32m-> 2131\u001b[1;33m                 \u001b[0mresult\u001b[0m \u001b[1;33m=\u001b[0m \u001b[0mfn\u001b[0m\u001b[1;33m(\u001b[0m\u001b[0mmagic_arg_s\u001b[0m\u001b[1;33m,\u001b[0m \u001b[0mcell\u001b[0m\u001b[1;33m)\u001b[0m\u001b[1;33m\u001b[0m\u001b[0m\n\u001b[0m\u001b[0;32m   2132\u001b[0m             \u001b[1;32mreturn\u001b[0m \u001b[0mresult\u001b[0m\u001b[1;33m\u001b[0m\u001b[0m\n\u001b[0;32m   2133\u001b[0m \u001b[1;33m\u001b[0m\u001b[0m\n",
      "\u001b[1;32m<decorator-gen-545>\u001b[0m in \u001b[0;36mexecute\u001b[1;34m(self, line, cell, local_ns)\u001b[0m\n",
      "\u001b[1;32m~\\AppData\\Roaming\\Python\\Python36\\site-packages\\IPython\\core\\magic.py\u001b[0m in \u001b[0;36m<lambda>\u001b[1;34m(f, *a, **k)\u001b[0m\n\u001b[0;32m    185\u001b[0m     \u001b[1;31m# but it's overkill for just that one bit of state.\u001b[0m\u001b[1;33m\u001b[0m\u001b[1;33m\u001b[0m\u001b[0m\n\u001b[0;32m    186\u001b[0m     \u001b[1;32mdef\u001b[0m \u001b[0mmagic_deco\u001b[0m\u001b[1;33m(\u001b[0m\u001b[0marg\u001b[0m\u001b[1;33m)\u001b[0m\u001b[1;33m:\u001b[0m\u001b[1;33m\u001b[0m\u001b[0m\n\u001b[1;32m--> 187\u001b[1;33m         \u001b[0mcall\u001b[0m \u001b[1;33m=\u001b[0m \u001b[1;32mlambda\u001b[0m \u001b[0mf\u001b[0m\u001b[1;33m,\u001b[0m \u001b[1;33m*\u001b[0m\u001b[0ma\u001b[0m\u001b[1;33m,\u001b[0m \u001b[1;33m**\u001b[0m\u001b[0mk\u001b[0m\u001b[1;33m:\u001b[0m \u001b[0mf\u001b[0m\u001b[1;33m(\u001b[0m\u001b[1;33m*\u001b[0m\u001b[0ma\u001b[0m\u001b[1;33m,\u001b[0m \u001b[1;33m**\u001b[0m\u001b[0mk\u001b[0m\u001b[1;33m)\u001b[0m\u001b[1;33m\u001b[0m\u001b[0m\n\u001b[0m\u001b[0;32m    188\u001b[0m \u001b[1;33m\u001b[0m\u001b[0m\n\u001b[0;32m    189\u001b[0m         \u001b[1;32mif\u001b[0m \u001b[0mcallable\u001b[0m\u001b[1;33m(\u001b[0m\u001b[0marg\u001b[0m\u001b[1;33m)\u001b[0m\u001b[1;33m:\u001b[0m\u001b[1;33m\u001b[0m\u001b[0m\n",
      "\u001b[1;32m<decorator-gen-544>\u001b[0m in \u001b[0;36mexecute\u001b[1;34m(self, line, cell, local_ns)\u001b[0m\n",
      "\u001b[1;32m~\\AppData\\Roaming\\Python\\Python36\\site-packages\\IPython\\core\\magic.py\u001b[0m in \u001b[0;36m<lambda>\u001b[1;34m(f, *a, **k)\u001b[0m\n\u001b[0;32m    185\u001b[0m     \u001b[1;31m# but it's overkill for just that one bit of state.\u001b[0m\u001b[1;33m\u001b[0m\u001b[1;33m\u001b[0m\u001b[0m\n\u001b[0;32m    186\u001b[0m     \u001b[1;32mdef\u001b[0m \u001b[0mmagic_deco\u001b[0m\u001b[1;33m(\u001b[0m\u001b[0marg\u001b[0m\u001b[1;33m)\u001b[0m\u001b[1;33m:\u001b[0m\u001b[1;33m\u001b[0m\u001b[0m\n\u001b[1;32m--> 187\u001b[1;33m         \u001b[0mcall\u001b[0m \u001b[1;33m=\u001b[0m \u001b[1;32mlambda\u001b[0m \u001b[0mf\u001b[0m\u001b[1;33m,\u001b[0m \u001b[1;33m*\u001b[0m\u001b[0ma\u001b[0m\u001b[1;33m,\u001b[0m \u001b[1;33m**\u001b[0m\u001b[0mk\u001b[0m\u001b[1;33m:\u001b[0m \u001b[0mf\u001b[0m\u001b[1;33m(\u001b[0m\u001b[1;33m*\u001b[0m\u001b[0ma\u001b[0m\u001b[1;33m,\u001b[0m \u001b[1;33m**\u001b[0m\u001b[0mk\u001b[0m\u001b[1;33m)\u001b[0m\u001b[1;33m\u001b[0m\u001b[0m\n\u001b[0m\u001b[0;32m    188\u001b[0m \u001b[1;33m\u001b[0m\u001b[0m\n\u001b[0;32m    189\u001b[0m         \u001b[1;32mif\u001b[0m \u001b[0mcallable\u001b[0m\u001b[1;33m(\u001b[0m\u001b[0marg\u001b[0m\u001b[1;33m)\u001b[0m\u001b[1;33m:\u001b[0m\u001b[1;33m\u001b[0m\u001b[0m\n",
      "\u001b[1;32m~\\AppData\\Roaming\\Python\\Python36\\site-packages\\cypher\\magic.py\u001b[0m in \u001b[0;36mexecute\u001b[1;34m(self, line, cell, local_ns)\u001b[0m\n\u001b[0;32m    106\u001b[0m         \u001b[0muser_ns\u001b[0m\u001b[1;33m.\u001b[0m\u001b[0mupdate\u001b[0m\u001b[1;33m(\u001b[0m\u001b[0mlocal_ns\u001b[0m\u001b[1;33m)\u001b[0m\u001b[1;33m\u001b[0m\u001b[0m\n\u001b[0;32m    107\u001b[0m         \u001b[0mparsed\u001b[0m \u001b[1;33m=\u001b[0m \u001b[0mparse\u001b[0m\u001b[1;33m(\u001b[0m\u001b[1;34m\"\"\"{0}\\n{1}\"\"\"\u001b[0m\u001b[1;33m.\u001b[0m\u001b[0mformat\u001b[0m\u001b[1;33m(\u001b[0m\u001b[0mline\u001b[0m\u001b[1;33m,\u001b[0m \u001b[0mcell\u001b[0m\u001b[1;33m)\u001b[0m\u001b[1;33m,\u001b[0m \u001b[0mself\u001b[0m\u001b[1;33m)\u001b[0m\u001b[1;33m\u001b[0m\u001b[0m\n\u001b[1;32m--> 108\u001b[1;33m         \u001b[0mconn\u001b[0m \u001b[1;33m=\u001b[0m \u001b[0mConnection\u001b[0m\u001b[1;33m.\u001b[0m\u001b[0mget\u001b[0m\u001b[1;33m(\u001b[0m\u001b[0mparsed\u001b[0m\u001b[1;33m[\u001b[0m\u001b[1;34m'as'\u001b[0m\u001b[1;33m]\u001b[0m \u001b[1;32mor\u001b[0m \u001b[0mparsed\u001b[0m\u001b[1;33m[\u001b[0m\u001b[1;34m'uri'\u001b[0m\u001b[1;33m]\u001b[0m\u001b[1;33m)\u001b[0m\u001b[1;33m\u001b[0m\u001b[0m\n\u001b[0m\u001b[0;32m    109\u001b[0m         \u001b[0mfirst_word\u001b[0m \u001b[1;33m=\u001b[0m \u001b[0mparsed\u001b[0m\u001b[1;33m[\u001b[0m\u001b[1;34m'cypher'\u001b[0m\u001b[1;33m]\u001b[0m\u001b[1;33m.\u001b[0m\u001b[0msplit\u001b[0m\u001b[1;33m(\u001b[0m\u001b[1;32mNone\u001b[0m\u001b[1;33m,\u001b[0m \u001b[1;36m1\u001b[0m\u001b[1;33m)\u001b[0m\u001b[1;33m[\u001b[0m\u001b[1;33m:\u001b[0m\u001b[1;36m1\u001b[0m\u001b[1;33m]\u001b[0m\u001b[1;33m\u001b[0m\u001b[0m\n\u001b[0;32m    110\u001b[0m         \u001b[1;32mif\u001b[0m \u001b[0mfirst_word\u001b[0m \u001b[1;32mand\u001b[0m \u001b[0mfirst_word\u001b[0m\u001b[1;33m[\u001b[0m\u001b[1;36m0\u001b[0m\u001b[1;33m]\u001b[0m\u001b[1;33m.\u001b[0m\u001b[0mlower\u001b[0m\u001b[1;33m(\u001b[0m\u001b[1;33m)\u001b[0m \u001b[1;33m==\u001b[0m \u001b[1;34m'persist'\u001b[0m\u001b[1;33m:\u001b[0m\u001b[1;33m\u001b[0m\u001b[0m\n",
      "\u001b[1;32m~\\AppData\\Roaming\\Python\\Python36\\site-packages\\cypher\\connection.py\u001b[0m in \u001b[0;36mget\u001b[1;34m(cls, descriptor)\u001b[0m\n\u001b[0;32m     45\u001b[0m                 \u001b[0mcls\u001b[0m\u001b[1;33m.\u001b[0m\u001b[0mcurrent\u001b[0m \u001b[1;33m=\u001b[0m \u001b[0mconn\u001b[0m\u001b[1;33m\u001b[0m\u001b[0m\n\u001b[0;32m     46\u001b[0m             \u001b[1;32melse\u001b[0m\u001b[1;33m:\u001b[0m\u001b[1;33m\u001b[0m\u001b[0m\n\u001b[1;32m---> 47\u001b[1;33m                 \u001b[0mcls\u001b[0m\u001b[1;33m.\u001b[0m\u001b[0mcurrent\u001b[0m \u001b[1;33m=\u001b[0m \u001b[0mConnection\u001b[0m\u001b[1;33m(\u001b[0m\u001b[0mdescriptor\u001b[0m\u001b[1;33m)\u001b[0m\u001b[1;33m\u001b[0m\u001b[0m\n\u001b[0m\u001b[0;32m     48\u001b[0m         \u001b[1;32mif\u001b[0m \u001b[0mcls\u001b[0m\u001b[1;33m.\u001b[0m\u001b[0mcurrent\u001b[0m\u001b[1;33m:\u001b[0m\u001b[1;33m\u001b[0m\u001b[0m\n\u001b[0;32m     49\u001b[0m             \u001b[1;32mreturn\u001b[0m \u001b[0mcls\u001b[0m\u001b[1;33m.\u001b[0m\u001b[0mcurrent\u001b[0m\u001b[1;33m\u001b[0m\u001b[0m\n",
      "\u001b[1;32m~\\AppData\\Roaming\\Python\\Python36\\site-packages\\cypher\\connection.py\u001b[0m in \u001b[0;36m__init__\u001b[1;34m(self, connect_str, alias)\u001b[0m\n\u001b[0;32m     24\u001b[0m                 \u001b[0mgdb\u001b[0m \u001b[1;33m=\u001b[0m \u001b[0mGraphDatabase\u001b[0m\u001b[1;33m(\u001b[0m\u001b[0mself\u001b[0m\u001b[1;33m.\u001b[0m\u001b[0mconnections\u001b[0m\u001b[1;33m[\u001b[0m\u001b[0mconnect_str\u001b[0m\u001b[1;33m]\u001b[0m\u001b[1;33m)\u001b[0m\u001b[1;33m\u001b[0m\u001b[0m\n\u001b[0;32m     25\u001b[0m             \u001b[1;32melse\u001b[0m\u001b[1;33m:\u001b[0m\u001b[1;33m\u001b[0m\u001b[0m\n\u001b[1;32m---> 26\u001b[1;33m                 \u001b[0mgdb\u001b[0m \u001b[1;33m=\u001b[0m \u001b[0mGraphDatabase\u001b[0m\u001b[1;33m(\u001b[0m\u001b[0mconnect_str\u001b[0m\u001b[1;33m)\u001b[0m\u001b[1;33m\u001b[0m\u001b[0m\n\u001b[0m\u001b[0;32m     27\u001b[0m                 \u001b[0malias\u001b[0m \u001b[1;33m=\u001b[0m \u001b[0mconnect_str\u001b[0m\u001b[1;33m\u001b[0m\u001b[0m\n\u001b[0;32m     28\u001b[0m         \u001b[1;32mexcept\u001b[0m\u001b[1;33m:\u001b[0m\u001b[1;33m\u001b[0m\u001b[0m\n",
      "\u001b[1;32m~\\AppData\\Roaming\\Python\\Python36\\site-packages\\neo4jrestclient\\client.py\u001b[0m in \u001b[0;36m__init__\u001b[1;34m(self, url, username, password, cert_file, key_file)\u001b[0m\n\u001b[0;32m     77\u001b[0m         \u001b[1;32melse\u001b[0m\u001b[1;33m:\u001b[0m\u001b[1;33m\u001b[0m\u001b[0m\n\u001b[0;32m     78\u001b[0m             \u001b[0mself\u001b[0m\u001b[1;33m.\u001b[0m\u001b[0murl\u001b[0m \u001b[1;33m=\u001b[0m \u001b[1;34m\"%s/\"\u001b[0m \u001b[1;33m%\u001b[0m \u001b[0murl\u001b[0m\u001b[1;33m\u001b[0m\u001b[0m\n\u001b[1;32m---> 79\u001b[1;33m         \u001b[0mresponse\u001b[0m \u001b[1;33m=\u001b[0m \u001b[0mRequest\u001b[0m\u001b[1;33m(\u001b[0m\u001b[1;33m**\u001b[0m\u001b[0mself\u001b[0m\u001b[1;33m.\u001b[0m\u001b[0m_auth\u001b[0m\u001b[1;33m)\u001b[0m\u001b[1;33m.\u001b[0m\u001b[0mget\u001b[0m\u001b[1;33m(\u001b[0m\u001b[0mself\u001b[0m\u001b[1;33m.\u001b[0m\u001b[0murl\u001b[0m\u001b[1;33m)\u001b[0m\u001b[1;33m\u001b[0m\u001b[0m\n\u001b[0m\u001b[0;32m     80\u001b[0m         \u001b[1;32mif\u001b[0m \u001b[0mresponse\u001b[0m\u001b[1;33m.\u001b[0m\u001b[0mstatus_code\u001b[0m \u001b[1;33m==\u001b[0m \u001b[1;36m200\u001b[0m\u001b[1;33m:\u001b[0m\u001b[1;33m\u001b[0m\u001b[0m\n\u001b[0;32m     81\u001b[0m             \u001b[0mresponse_json\u001b[0m \u001b[1;33m=\u001b[0m \u001b[0mresponse\u001b[0m\u001b[1;33m.\u001b[0m\u001b[0mjson\u001b[0m\u001b[1;33m(\u001b[0m\u001b[1;33m)\u001b[0m\u001b[1;33m\u001b[0m\u001b[0m\n",
      "\u001b[1;32m~\\AppData\\Roaming\\Python\\Python36\\site-packages\\neo4jrestclient\\request.py\u001b[0m in \u001b[0;36mget\u001b[1;34m(self, url, headers)\u001b[0m\n\u001b[0;32m     61\u001b[0m         \u001b[0mReturns\u001b[0m \u001b[0mthe\u001b[0m \u001b[0mresponse\u001b[0m \u001b[0mobject\u001b[0m\u001b[1;33m.\u001b[0m\u001b[1;33m\u001b[0m\u001b[0m\n\u001b[0;32m     62\u001b[0m         \"\"\"\n\u001b[1;32m---> 63\u001b[1;33m         \u001b[1;32mreturn\u001b[0m \u001b[0mself\u001b[0m\u001b[1;33m.\u001b[0m\u001b[0m_request\u001b[0m\u001b[1;33m(\u001b[0m\u001b[1;34m'GET'\u001b[0m\u001b[1;33m,\u001b[0m \u001b[0murl\u001b[0m\u001b[1;33m,\u001b[0m \u001b[0mheaders\u001b[0m\u001b[1;33m=\u001b[0m\u001b[0mheaders\u001b[0m\u001b[1;33m)\u001b[0m\u001b[1;33m\u001b[0m\u001b[0m\n\u001b[0m\u001b[0;32m     64\u001b[0m \u001b[1;33m\u001b[0m\u001b[0m\n\u001b[0;32m     65\u001b[0m     \u001b[1;32mdef\u001b[0m \u001b[0mpost\u001b[0m\u001b[1;33m(\u001b[0m\u001b[0mself\u001b[0m\u001b[1;33m,\u001b[0m \u001b[0murl\u001b[0m\u001b[1;33m,\u001b[0m \u001b[0mdata\u001b[0m\u001b[1;33m,\u001b[0m \u001b[0mheaders\u001b[0m\u001b[1;33m=\u001b[0m\u001b[1;32mNone\u001b[0m\u001b[1;33m)\u001b[0m\u001b[1;33m:\u001b[0m\u001b[1;33m\u001b[0m\u001b[0m\n",
      "\u001b[1;32m~\\AppData\\Roaming\\Python\\Python36\\site-packages\\neo4jrestclient\\request.py\u001b[0m in \u001b[0;36m_request\u001b[1;34m(self, method, url, data, headers)\u001b[0m\n\u001b[0;32m    198\u001b[0m                                                 auth=auth, verify=verify)\n\u001b[0;32m    199\u001b[0m             \u001b[1;32mif\u001b[0m \u001b[0mresponse\u001b[0m\u001b[1;33m.\u001b[0m\u001b[0mstatus_code\u001b[0m \u001b[1;33m==\u001b[0m \u001b[1;36m401\u001b[0m\u001b[1;33m:\u001b[0m\u001b[1;33m\u001b[0m\u001b[0m\n\u001b[1;32m--> 200\u001b[1;33m                 \u001b[1;32mraise\u001b[0m \u001b[0mStatusException\u001b[0m\u001b[1;33m(\u001b[0m\u001b[1;36m401\u001b[0m\u001b[1;33m,\u001b[0m \u001b[1;34m\"Authorization Required\"\u001b[0m\u001b[1;33m)\u001b[0m\u001b[1;33m\u001b[0m\u001b[0m\n\u001b[0m\u001b[0;32m    201\u001b[0m             \u001b[1;32mreturn\u001b[0m \u001b[0mresponse\u001b[0m\u001b[1;33m\u001b[0m\u001b[0m\n\u001b[0;32m    202\u001b[0m         \u001b[1;32mexcept\u001b[0m \u001b[0mAttributeError\u001b[0m\u001b[1;33m:\u001b[0m\u001b[1;33m\u001b[0m\u001b[0m\n",
      "\u001b[1;31mStatusException\u001b[0m: Code [401]: Unauthorized. No permission -- see authorization schemes.\nAuthorization Required"
     ],
     "output_type": "error"
    }
   ],
   "source": [
    "%%cypher\n",
    "match path=(c:CAlpha {IdPDB:\"5O75\"})-[r:NEAR_10A]-(d) WHERE r.Dist<=4\n",
    "return c,r,d\n"
   ]
  },
  {
   "cell_type": "code",
   "execution_count": 7,
   "metadata": {},
   "outputs": [],
   "source": [
    "from py2neo import Graph\n"
   ]
  },
  {
   "cell_type": "code",
   "execution_count": 9,
   "metadata": {},
   "outputs": [],
   "source": [
    "import py2neo\n",
    "py2neo.authenticate(\"localhost:7474\",\"neo4j\",\"pxyon123\")\n",
    "g = Graph()\n",
    "que1 = \"\"\"\n",
    "match path=(c:CAlpha {IdPDB:\"5O75\"})-[r:NEAR_10A]-(d) WHERE r.Dist<=4\n",
    "return c,r,d\n",
    "\"\"\""
   ]
  },
  {
   "cell_type": "code",
   "execution_count": 10,
   "metadata": {},
   "outputs": [],
   "source": [
    "dat1 = g.run(que1)"
   ]
  },
  {
   "cell_type": "code",
   "execution_count": 11,
   "metadata": {},
   "outputs": [
    {
     "data": {
      "text/plain": [
       "<py2neo.database.Cursor at 0x4f52d70>"
      ]
     },
     "execution_count": 11,
     "metadata": {},
     "output_type": "execute_result"
    }
   ],
   "source": [
    "dat1"
   ]
  },
  {
   "cell_type": "code",
   "execution_count": 13,
   "metadata": {},
   "outputs": [
    {
     "name": "stdout",
     "output_type": "stream",
     "text": [
      "('c': (ea82e04:CAlpha {AtomSerial:50,Coords:[20.943,45.154,92.956],IdPDB:\"5O75\",ResName:\"ARG\",ResSeq:1104}), 'r': (ea82e04)-[:NEAR_10A {Dist:3.8009655352291776}]->(b358341), 'd': (b358341:CAlpha {AtomSerial:61,Coords:[18.674,42.171,93.589],IdPDB:\"5O75\",ResName:\"ASP\",ResSeq:1105}))\n('c': (ea82e04:CAlpha {AtomSerial:50,Coords:[20.943,45.154,92.956],IdPDB:\"5O75\",ResName:\"ARG\",ResSeq:1104}), 'r': (a5a5cd6)-[:NEAR_10A {Dist:3.8419518476940806}]->(ea82e04), 'd': (a5a5cd6:CAlpha {AtomSerial:39,Coords:[20.558,48.419,90.968],IdPDB:\"5O75\",ResName:\"PHE\",ResSeq:1103}))\n('c': (c2660e3:CAlpha {AtomSerial:306,Coords:[10.048,26.864,87.08],IdPDB:\"5O75\",ResName:\"LEU\",ResSeq:1134}), 'r': (b8f1f85)-[:NEAR_10A {Dist:3.8078630490079353}]->(c2660e3), 'd': (b8f1f85:CAlpha {AtomSerial:298,Coords:[8.762,30.085,88.652],IdPDB:\"5O75\",ResName:\"LEU\",ResSeq:1133}))\n('c': (c2660e3:CAlpha {AtomSerial:306,Coords:[10.048,26.864,87.08],IdPDB:\"5O75\",ResName:\"LEU\",ResSeq:1134}), 'r': (c2660e3)-[:NEAR_10A {Dist:3.820597204626527}]->(c3ca3c0), 'd': (c3ca3c0:CAlpha {AtomSerial:314,Coords:[9.701,25.319,90.557],IdPDB:\"5O75\",ResName:\"ASN\",ResSeq:1135}))\n('c': (ace4db3:CAlpha {AtomSerial:182,Coords:[2.878,42.957,91.014],IdPDB:\"5O75\",ResName:\"PRO\",ResSeq:1119}), 'r': (ace4db3)-[:NEAR_10A {Dist:3.83731273158705}]->(b03a5a3), 'd': (b03a5a3:CAlpha {AtomSerial:190,Coords:[3.747,43.225,94.742],IdPDB:\"5O75\",ResName:\"SER\",ResSeq:1120}))\n('c': (ace4db3:CAlpha {AtomSerial:182,Coords:[2.878,42.957,91.014],IdPDB:\"5O75\",ResName:\"PRO\",ResSeq:1119}), 'r': (dfd8ed6)-[:NEAR_10A {Dist:3.8281648344866244}]->(ace4db3), 'd': (dfd8ed6:CAlpha {AtomSerial:174,Coords:[6.473,41.852,90.3],IdPDB:\"5O75\",ResName:\"LEU\",ResSeq:1118}))\n('c': (dfc6b97:CAlpha {AtomSerial:387,Coords:[0.793,35.133,96.287],IdPDB:\"5O75\",ResName:\"GLN\",ResSeq:1144}), 'r': (dfc6b97)-[:NEAR_10A {Dist:3.77959706847173}]->(e6a2564), 'd': (e6a2564:CAlpha {AtomSerial:396,Coords:[0.146,33.425,92.978],IdPDB:\"5O75\",ResName:\"THR\",ResSeq:1145}))\n('c': (dfc6b97:CAlpha {AtomSerial:387,Coords:[0.793,35.133,96.287],IdPDB:\"5O75\",ResName:\"GLN\",ResSeq:1144}), 'r': (d633fe9)-[:NEAR_10A {Dist:3.811470057602441}]->(dfc6b97), 'd': (d633fe9:CAlpha {AtomSerial:376,Coords:[3.441,33.695,98.621],IdPDB:\"5O75\",ResName:\"ARG\",ResSeq:1143}))\n('c': (c22dc9b:CAlpha {AtomSerial:115,Coords:[20.284,43.411,87.903],IdPDB:\"5O75\",ResName:\"MET\",ResSeq:1112}), 'r': (f9d1d36)-[:NEAR_10A {Dist:3.8095990602686776}]->(c22dc9b), 'd': (f9d1d36:CAlpha {AtomSerial:107,Coords:[23.654,43.595,89.67],IdPDB:\"5O75\",ResName:\"LEU\",ResSeq:1111}))\n('c': (c22dc9b:CAlpha {AtomSerial:115,Coords:[20.284,43.411,87.903],IdPDB:\"5O75\",ResName:\"MET\",ResSeq:1112}), 'r': (c22dc9b)-[:NEAR_10A {Dist:3.75972778269917}]->(c7dacc8), 'd': (c7dacc8:CAlpha {AtomSerial:123,Coords:[21.068,43.5,84.227],IdPDB:\"5O75\",ResName:\"THR\",ResSeq:1113}))\n('c': (b657eca:CAlpha {AtomSerial:247,Coords:[16.853,35.526,85.514],IdPDB:\"5O75\",ResName:\"SER\",ResSeq:1127}), 'r': (b657eca)-[:NEAR_10A {Dist:3.8252282284852}]->(c8b2cf6), 'd': (c8b2cf6:CAlpha {AtomSerial:253,Coords:[16.102,34.859,89.205],IdPDB:\"5O75\",ResName:\"ILE\",ResSeq:1128}))\n('c': (b657eca:CAlpha {AtomSerial:247,Coords:[16.853,35.526,85.514],IdPDB:\"5O75\",ResName:\"SER\",ResSeq:1127}), 'r': (d80876d)-[:NEAR_10A {Dist:3.8425291150490968}]->(b657eca), 'd': (d80876d:CAlpha {AtomSerial:236,Coords:[14.388,38.469,85.348],IdPDB:\"5O75\",ResName:\"ARG\",ResSeq:1126}))\n('c': (fd8cc4a:CAlpha {AtomSerial:531,Coords:[23.62,50.172,81.688],IdPDB:\"5O75\",ResName:\"GLN\",ResSeq:1162}), 'r': (fd8cc4a)-[:NEAR_10A {Dist:3.8066402509299517}]->(a111cdc), 'd': (a111cdc:CAlpha {AtomSerial:540,Coords:[24.593,53.837,82.022],IdPDB:\"5O75\",ResName:\"ALA\",ResSeq:1163}))\n('c': (fd8cc4a:CAlpha {AtomSerial:531,Coords:[23.62,50.172,81.688],IdPDB:\"5O75\",ResName:\"GLN\",ResSeq:1162}), 'r': (afd0bca)-[:NEAR_10A {Dist:3.8073767872381654}]->(fd8cc4a), 'd': (afd0bca:CAlpha {AtomSerial:523,Coords:[21.969,50.511,85.102],IdPDB:\"5O75\",ResName:\"ILE\",ResSeq:1161}))\n('c': (e32a637:CAlpha {AtomSerial:449,Coords:[6.759,43.933,83.923],IdPDB:\"5O75\",ResName:\"GLU\",ResSeq:1152}), 'r': (e32a637)-[:NEAR_10A {Dist:3.809360707520355}]->(c42a2fe), 'd': (c42a2fe:CAlpha {AtomSerial:458,Coords:[9.985,45.361,82.486],IdPDB:\"5O75\",ResName:\"PRO\",ResSeq:1153}))\n('c': (e32a637:CAlpha {AtomSerial:449,Coords:[6.759,43.933,83.923],IdPDB:\"5O75\",ResName:\"GLU\",ResSeq:1152}), 'r': (bcc65bf)-[:NEAR_10A {Dist:3.8032236326569007}]->(e32a637), 'd': (bcc65bf:CAlpha {AtomSerial:441,Coords:[6.09,40.468,85.341],IdPDB:\"5O75\",ResName:\"LEU\",ResSeq:1151}))\n('c': (b358341:CAlpha {AtomSerial:61,Coords:[18.674,42.171,93.589],IdPDB:\"5O75\",ResName:\"ASP\",ResSeq:1105}), 'r': (b358341)-[:NEAR_10A {Dist:3.8383925020768768}]->(aca3fac), 'd': (aca3fac:CAlpha {AtomSerial:69,Coords:[16.797,42.139,96.937],IdPDB:\"5O75\",ResName:\"PRO\",ResSeq:1106}))\n('c': (b358341:CAlpha {AtomSerial:61,Coords:[18.674,42.171,93.589],IdPDB:\"5O75\",ResName:\"ASP\",ResSeq:1105}), 'r': (ea82e04)-[:NEAR_10A {Dist:3.8009655352291776}]->(b358341), 'd': (ea82e04:CAlpha {AtomSerial:50,Coords:[20.943,45.154,92.956],IdPDB:\"5O75\",ResName:\"ARG\",ResSeq:1104}))\n('c': (dfd8ed6:CAlpha {AtomSerial:174,Coords:[6.473,41.852,90.3],IdPDB:\"5O75\",ResName:\"LEU\",ResSeq:1118}), 'r': (a9f0ea2)-[:NEAR_10A {Dist:3.8036607367114112}]->(dfd8ed6), 'd': (a9f0ea2:CAlpha {AtomSerial:153,Coords:[8.818,44.365,88.671],IdPDB:\"5O75\",ResName:\"ARG\",ResSeq:1117}))\n('c': (dfd8ed6:CAlpha {AtomSerial:174,Coords:[6.473,41.852,90.3],IdPDB:\"5O75\",ResName:\"LEU\",ResSeq:1118}), 'r': (dfd8ed6)-[:NEAR_10A {Dist:3.8281648344866244}]->(ace4db3), 'd': (ace4db3:CAlpha {AtomSerial:182,Coords:[2.878,42.957,91.014],IdPDB:\"5O75\",ResName:\"PRO\",ResSeq:1119}))\n('c': (c3ca3c0:CAlpha {AtomSerial:314,Coords:[9.701,25.319,90.557],IdPDB:\"5O75\",ResName:\"ASN\",ResSeq:1135}), 'r': (c3ca3c0)-[:NEAR_10A {Dist:3.8604648683804887}]->(ee8e53d), 'd': (ee8e53d:CAlpha {AtomSerial:322,Coords:[6.758,27.291,92.091],IdPDB:\"5O75\",ResName:\"SER\",ResSeq:1136}))\n('c': (c3ca3c0:CAlpha {AtomSerial:314,Coords:[9.701,25.319,90.557],IdPDB:\"5O75\",ResName:\"ASN\",ResSeq:1135}), 'r': (c2660e3)-[:NEAR_10A {Dist:3.820597204626527}]->(c3ca3c0), 'd': (c2660e3:CAlpha {AtomSerial:306,Coords:[10.048,26.864,87.08],IdPDB:\"5O75\",ResName:\"LEU\",ResSeq:1134}))\n('c': (e6a2564:CAlpha {AtomSerial:396,Coords:[0.146,33.425,92.978],IdPDB:\"5O75\",ResName:\"THR\",ResSeq:1145}), 'r': (dfc6b97)-[:NEAR_10A {Dist:3.77959706847173}]->(e6a2564), 'd': (dfc6b97:CAlpha {AtomSerial:387,Coords:[0.793,35.133,96.287],IdPDB:\"5O75\",ResName:\"GLN\",ResSeq:1144}))\n('c': (e6a2564:CAlpha {AtomSerial:396,Coords:[0.146,33.425,92.978],IdPDB:\"5O75\",ResName:\"THR\",ResSeq:1145}), 'r': (e6a2564)-[:NEAR_10A {Dist:3.799115818187168}]->(dd9d4ae), 'd': (dd9d4ae:CAlpha {AtomSerial:403,Coords:[2.626,34.616,90.358],IdPDB:\"5O75\",ResName:\"LEU\",ResSeq:1146}))\n('c': (c7dacc8:CAlpha {AtomSerial:123,Coords:[21.068,43.5,84.227],IdPDB:\"5O75\",ResName:\"THR\",ResSeq:1113}), 'r': (c7dacc8)-[:NEAR_10A {Dist:3.8346625666412995}]->(d3abc5c), 'd': (d3abc5c:CAlpha {AtomSerial:130,Coords:[17.423,42.704,83.341],IdPDB:\"5O75\",ResName:\"ASP\",ResSeq:1114}))\n('c': (c7dacc8:CAlpha {AtomSerial:123,Coords:[21.068,43.5,84.227],IdPDB:\"5O75\",ResName:\"THR\",ResSeq:1113}), 'r': (c22dc9b)-[:NEAR_10A {Dist:3.75972778269917}]->(c7dacc8), 'd': (c22dc9b:CAlpha {AtomSerial:115,Coords:[20.284,43.411,87.903],IdPDB:\"5O75\",ResName:\"MET\",ResSeq:1112}))\n('c': (d80876d:CAlpha {AtomSerial:236,Coords:[14.388,38.469,85.348],IdPDB:\"5O75\",ResName:\"ARG\",ResSeq:1126}), 'r': (e920f3f)-[:NEAR_10A {Dist:3.7728050572485152}]->(d80876d), 'd': (e920f3f:CAlpha {AtomSerial:228,Coords:[16.448,40.262,87.951],IdPDB:\"5O75\",ResName:\"ASP\",ResSeq:1125}))\n('c': (d80876d:CAlpha {AtomSerial:236,Coords:[14.388,38.469,85.348],IdPDB:\"5O75\",ResName:\"ARG\",ResSeq:1126}), 'r': (d80876d)-[:NEAR_10A {Dist:3.8425291150490968}]->(b657eca), 'd': (b657eca:CAlpha {AtomSerial:247,Coords:[16.853,35.526,85.514],IdPDB:\"5O75\",ResName:\"SER\",ResSeq:1127}))\n('c': (a111cdc:CAlpha {AtomSerial:540,Coords:[24.593,53.837,82.022],IdPDB:\"5O75\",ResName:\"ALA\",ResSeq:1163}), 'r': (fd8cc4a)-[:NEAR_10A {Dist:3.8066402509299517}]->(a111cdc), 'd': (fd8cc4a:CAlpha {AtomSerial:531,Coords:[23.62,50.172,81.688],IdPDB:\"5O75\",ResName:\"GLN\",ResSeq:1162}))\n('c': (a111cdc:CAlpha {AtomSerial:540,Coords:[24.593,53.837,82.022],IdPDB:\"5O75\",ResName:\"ALA\",ResSeq:1163}), 'r': (a111cdc)-[:NEAR_10A {Dist:3.802802387713567}]->(d0d4c72), 'd': (d0d4c72:CAlpha {AtomSerial:545,Coords:[26.192,53.149,85.403],IdPDB:\"5O75\",ResName:\"TRP\",ResSeq:1164}))\n('c': (c42a2fe:CAlpha {AtomSerial:458,Coords:[9.985,45.361,82.486],IdPDB:\"5O75\",ResName:\"PRO\",ResSeq:1153}), 'r': (c42a2fe)-[:NEAR_10A {Dist:3.7938278822318763}]->(e53a310), 'd': (e53a310:CAlpha {AtomSerial:465,Coords:[11.409,48.506,84.059],IdPDB:\"5O75\",ResName:\"VAL\",ResSeq:1154}))\n('c': (c42a2fe:CAlpha {AtomSerial:458,Coords:[9.985,45.361,82.486],IdPDB:\"5O75\",ResName:\"PRO\",ResSeq:1153}), 'r': (e32a637)-[:NEAR_10A {Dist:3.809360707520355}]->(c42a2fe), 'd': (e32a637:CAlpha {AtomSerial:449,Coords:[6.759,43.933,83.923],IdPDB:\"5O75\",ResName:\"GLU\",ResSeq:1152}))\n('c': (ee8e53d:CAlpha {AtomSerial:322,Coords:[6.758,27.291,92.091],IdPDB:\"5O75\",ResName:\"SER\",ResSeq:1136}), 'r': (c3ca3c0)-[:NEAR_10A {Dist:3.8604648683804887}]->(ee8e53d), 'd': (c3ca3c0:CAlpha {AtomSerial:314,Coords:[9.701,25.319,90.557],IdPDB:\"5O75\",ResName:\"ASN\",ResSeq:1135}))\n('c': (ee8e53d:CAlpha {AtomSerial:322,Coords:[6.758,27.291,92.091],IdPDB:\"5O75\",ResName:\"SER\",ResSeq:1136}), 'r': (ee8e53d)-[:NEAR_10A {Dist:3.857016074635933}]->(ba7eb87), 'd': (ba7eb87:CAlpha {AtomSerial:328,Coords:[3.94,29.534,90.711],IdPDB:\"5O75\",ResName:\"PRO\",ResSeq:1137}))\n('c': (b3d2719:CAlpha {AtomSerial:201,Coords:[6.338,45.887,93.957],IdPDB:\"5O75\",ResName:\"GLY\",ResSeq:1121}), 'r': (b03a5a3)-[:NEAR_10A {Dist:3.796807869776928}]->(b3d2719), 'd': (b03a5a3:CAlpha {AtomSerial:190,Coords:[3.747,43.225,94.742],IdPDB:\"5O75\",ResName:\"SER\",ResSeq:1120}))\n('c': (b3d2719:CAlpha {AtomSerial:201,Coords:[6.338,45.887,93.957],IdPDB:\"5O75\",ResName:\"GLY\",ResSeq:1121}), 'r': (b3d2719)-[:NEAR_10A {Dist:3.7959643043632547}]->(ca87eff), 'd': (ca87eff:CAlpha {AtomSerial:205,Coords:[9.511,43.833,94.307],IdPDB:\"5O75\",ResName:\"THR\",ResSeq:1122}))\n('c': (b4f8233:CAlpha {AtomSerial:30,Coords:[18.516,50.091,93.727],IdPDB:\"5O75\",ResName:\"GLU\",ResSeq:1102}), 'r': (b4f8233)-[:NEAR_10A {Dist:3.818039942169283}]->(a5a5cd6), 'd': (a5a5cd6:CAlpha {AtomSerial:39,Coords:[20.558,48.419,90.968],IdPDB:\"5O75\",ResName:\"PHE\",ResSeq:1103}))\n('c': (b4f8233:CAlpha {AtomSerial:30,Coords:[18.516,50.091,93.727],IdPDB:\"5O75\",ResName:\"GLU\",ResSeq:1102}), 'r': (dd8ec8e)-[:NEAR_10A {Dist:3.8007953115104725}]->(b4f8233), 'd': (dd8ec8e:CAlpha {AtomSerial:22,Coords:[21.255,49.361,96.259],IdPDB:\"5O75\",ResName:\"ASP\",ResSeq:1101}))\n('c': (c06b04a:CAlpha {AtomSerial:368,Coords:[4.651,37.086,99.982],IdPDB:\"5O75\",ResName:\"ASN\",ResSeq:1142}), 'r': (c06b04a)-[:NEAR_10A {Dist:3.849065081289221}]->(d633fe9), 'd': (d633fe9:CAlpha {AtomSerial:376,Coords:[3.441,33.695,98.621],IdPDB:\"5O75\",ResName:\"ARG\",ResSeq:1143}))\n('c': (c06b04a:CAlpha {AtomSerial:368,Coords:[4.651,37.086,99.982],IdPDB:\"5O75\",ResName:\"ASN\",ResSeq:1142}), 'r': (bcfcf9b)-[:NEAR_10A {Dist:3.824142518264715}]->(c06b04a), 'd': (bcfcf9b:CAlpha {AtomSerial:357,Coords:[8.38,36.871,99.162],IdPDB:\"5O75\",ResName:\"PHE\",ResSeq:1141}))\n('c': (d2a102e:CAlpha {AtomSerial:261,Coords:[12.35,35.081,89.172],IdPDB:\"5O75\",ResName:\"ILE\",ResSeq:1129}), 'r': (d2a102e)-[:NEAR_10A {Dist:3.8151982910459545}]->(d4a1588), 'd': (d4a1588:CAlpha {AtomSerial:269,Coords:[11.925,32.998,86.004],IdPDB:\"5O75\",ResName:\"LEU\",ResSeq:1130}))\n('c': (d2a102e:CAlpha {AtomSerial:261,Coords:[12.35,35.081,89.172],IdPDB:\"5O75\",ResName:\"ILE\",ResSeq:1129}), 'r': (c8b2cf6)-[:NEAR_10A {Dist:3.758706825491981}]->(d2a102e), 'd': (c8b2cf6:CAlpha {AtomSerial:253,Coords:[16.102,34.859,89.205],IdPDB:\"5O75\",ResName:\"ILE\",ResSeq:1128}))\n('c': (ef4d01e:CAlpha {AtomSerial:100,Coords:[24.239,40.923,92.296],IdPDB:\"5O75\",ResName:\"THR\",ResSeq:1110}), 'r': (b37aa00)-[:NEAR_10A {Dist:3.802000920568009}]->(ef4d01e), 'd': (b37aa00:CAlpha {AtomSerial:92,Coords:[25.132,41.754,95.897],IdPDB:\"5O75\",ResName:\"ASP\",ResSeq:1109}))\n('c': (ef4d01e:CAlpha {AtomSerial:100,Coords:[24.239,40.923,92.296],IdPDB:\"5O75\",ResName:\"THR\",ResSeq:1110}), 'r': (ef4d01e)-[:NEAR_10A {Dist:3.7917917928071962}]->(f9d1d36), 'd': (f9d1d36:CAlpha {AtomSerial:107,Coords:[23.654,43.595,89.67],IdPDB:\"5O75\",ResName:\"LEU\",ResSeq:1111}))\n('c': (e433e70:CAlpha {AtomSerial:433,Coords:[2.471,39.185,85.354],IdPDB:\"5O75\",ResName:\"MET\",ResSeq:1150}), 'r': (e433e70)-[:NEAR_10A {Dist:3.8397160051232957}]->(bcc65bf), 'd': (bcc65bf:CAlpha {AtomSerial:441,Coords:[6.09,40.468,85.341],IdPDB:\"5O75\",ResName:\"LEU\",ResSeq:1151}))\n('c': (e433e70:CAlpha {AtomSerial:433,Coords:[2.471,39.185,85.354],IdPDB:\"5O75\",ResName:\"MET\",ResSeq:1150}), 'r': (afd6a35)-[:NEAR_10A {Dist:3.8209035580605826}]->(e433e70), 'd': (afd6a35:CAlpha {AtomSerial:427,Coords:[3.023,37.035,82.244],IdPDB:\"5O75\",ResName:\"SER\",ResSeq:1149}))\n('c': (d0d4c72:CAlpha {AtomSerial:545,Coords:[26.192,53.149,85.403],IdPDB:\"5O75\",ResName:\"TRP\",ResSeq:1164}), 'r': (a111cdc)-[:NEAR_10A {Dist:3.802802387713567}]->(d0d4c72), 'd': (a111cdc:CAlpha {AtomSerial:540,Coords:[24.593,53.837,82.022],IdPDB:\"5O75\",ResName:\"ALA\",ResSeq:1163}))\n('c': (d0d4c72:CAlpha {AtomSerial:545,Coords:[26.192,53.149,85.403],IdPDB:\"5O75\",ResName:\"TRP\",ResSeq:1164}), 'r': (d0d4c72)-[:NEAR_10A {Dist:3.823587582362932}]->(f637f9b), 'd': (f637f9b:CAlpha {AtomSerial:559,Coords:[28.146,50.204,83.944],IdPDB:\"5O75\",ResName:\"MET\",ResSeq:1165}))\n('c': (b03a5a3:CAlpha {AtomSerial:190,Coords:[3.747,43.225,94.742],IdPDB:\"5O75\",ResName:\"SER\",ResSeq:1120}), 'r': (ace4db3)-[:NEAR_10A {Dist:3.83731273158705}]->(b03a5a3), 'd': (ace4db3:CAlpha {AtomSerial:182,Coords:[2.878,42.957,91.014],IdPDB:\"5O75\",ResName:\"PRO\",ResSeq:1119}))\n('c': (b03a5a3:CAlpha {AtomSerial:190,Coords:[3.747,43.225,94.742],IdPDB:\"5O75\",ResName:\"SER\",ResSeq:1120}), 'r': (b03a5a3)-[:NEAR_10A {Dist:3.796807869776928}]->(b3d2719), 'd': (b3d2719:CAlpha {AtomSerial:201,Coords:[6.338,45.887,93.957],IdPDB:\"5O75\",ResName:\"GLY\",ResSeq:1121}))\n('c': (ba7eb87:CAlpha {AtomSerial:328,Coords:[3.94,29.534,90.711],IdPDB:\"5O75\",ResName:\"PRO\",ResSeq:1137}), 'r': (ee8e53d)-[:NEAR_10A {Dist:3.857016074635933}]->(ba7eb87), 'd': (ee8e53d:CAlpha {AtomSerial:322,Coords:[6.758,27.291,92.091],IdPDB:\"5O75\",ResName:\"SER\",ResSeq:1136}))\n('c': (ba7eb87:CAlpha {AtomSerial:328,Coords:[3.94,29.534,90.711],IdPDB:\"5O75\",ResName:\"PRO\",ResSeq:1137}), 'r': (ba7eb87)-[:NEAR_10A {Dist:3.8021643836109997}]->(a7267d1), 'd': (a7267d1:CAlpha {AtomSerial:335,Coords:[4.371,31.981,93.589],IdPDB:\"5O75\",ResName:\"THR\",ResSeq:1138}))\n('c': (a5a5cd6:CAlpha {AtomSerial:39,Coords:[20.558,48.419,90.968],IdPDB:\"5O75\",ResName:\"PHE\",ResSeq:1103}), 'r': (a5a5cd6)-[:NEAR_10A {Dist:3.8419518476940806}]->(ea82e04), 'd': (ea82e04:CAlpha {AtomSerial:50,Coords:[20.943,45.154,92.956],IdPDB:\"5O75\",ResName:\"ARG\",ResSeq:1104}))\n('c': (a5a5cd6:CAlpha {AtomSerial:39,Coords:[20.558,48.419,90.968],IdPDB:\"5O75\",ResName:\"PHE\",ResSeq:1103}), 'r': (b4f8233)-[:NEAR_10A {Dist:3.818039942169283}]->(a5a5cd6), 'd': (b4f8233:CAlpha {AtomSerial:30,Coords:[18.516,50.091,93.727],IdPDB:\"5O75\",ResName:\"GLU\",ResSeq:1102}))\n('c': (d633fe9:CAlpha {AtomSerial:376,Coords:[3.441,33.695,98.621],IdPDB:\"5O75\",ResName:\"ARG\",ResSeq:1143}), 'r': (d633fe9)-[:NEAR_10A {Dist:3.811470057602441}]->(dfc6b97), 'd': (dfc6b97:CAlpha {AtomSerial:387,Coords:[0.793,35.133,96.287],IdPDB:\"5O75\",ResName:\"GLN\",ResSeq:1144}))\n('c': (d633fe9:CAlpha {AtomSerial:376,Coords:[3.441,33.695,98.621],IdPDB:\"5O75\",ResName:\"ARG\",ResSeq:1143}), 'r': (c06b04a)-[:NEAR_10A {Dist:3.849065081289221}]->(d633fe9), 'd': (c06b04a:CAlpha {AtomSerial:368,Coords:[4.651,37.086,99.982],IdPDB:\"5O75\",ResName:\"ASN\",ResSeq:1142}))\n('c': (c8b2cf6:CAlpha {AtomSerial:253,Coords:[16.102,34.859,89.205],IdPDB:\"5O75\",ResName:\"ILE\",ResSeq:1128}), 'r': (c8b2cf6)-[:NEAR_10A {Dist:3.758706825491981}]->(d2a102e), 'd': (d2a102e:CAlpha {AtomSerial:261,Coords:[12.35,35.081,89.172],IdPDB:\"5O75\",ResName:\"ILE\",ResSeq:1129}))\n('c': (c8b2cf6:CAlpha {AtomSerial:253,Coords:[16.102,34.859,89.205],IdPDB:\"5O75\",ResName:\"ILE\",ResSeq:1128}), 'r': (b657eca)-[:NEAR_10A {Dist:3.8252282284852}]->(c8b2cf6), 'd': (b657eca:CAlpha {AtomSerial:247,Coords:[16.853,35.526,85.514],IdPDB:\"5O75\",ResName:\"SER\",ResSeq:1127}))\n('c': (f9d1d36:CAlpha {AtomSerial:107,Coords:[23.654,43.595,89.67],IdPDB:\"5O75\",ResName:\"LEU\",ResSeq:1111}), 'r': (ef4d01e)-[:NEAR_10A {Dist:3.7917917928071962}]->(f9d1d36), 'd': (ef4d01e:CAlpha {AtomSerial:100,Coords:[24.239,40.923,92.296],IdPDB:\"5O75\",ResName:\"THR\",ResSeq:1110}))\n('c': (f9d1d36:CAlpha {AtomSerial:107,Coords:[23.654,43.595,89.67],IdPDB:\"5O75\",ResName:\"LEU\",ResSeq:1111}), 'r': (f9d1d36)-[:NEAR_10A {Dist:3.8095990602686776}]->(c22dc9b), 'd': (c22dc9b:CAlpha {AtomSerial:115,Coords:[20.284,43.411,87.903],IdPDB:\"5O75\",ResName:\"MET\",ResSeq:1112}))\n('c': (bcc65bf:CAlpha {AtomSerial:441,Coords:[6.09,40.468,85.341],IdPDB:\"5O75\",ResName:\"LEU\",ResSeq:1151}), 'r': (e433e70)-[:NEAR_10A {Dist:3.8397160051232957}]->(bcc65bf), 'd': (e433e70:CAlpha {AtomSerial:433,Coords:[2.471,39.185,85.354],IdPDB:\"5O75\",ResName:\"MET\",ResSeq:1150}))\n('c': (bcc65bf:CAlpha {AtomSerial:441,Coords:[6.09,40.468,85.341],IdPDB:\"5O75\",ResName:\"LEU\",ResSeq:1151}), 'r': (bcc65bf)-[:NEAR_10A {Dist:3.8032236326569007}]->(e32a637), 'd': (e32a637:CAlpha {AtomSerial:449,Coords:[6.759,43.933,83.923],IdPDB:\"5O75\",ResName:\"GLU\",ResSeq:1152}))\n('c': (f637f9b:CAlpha {AtomSerial:559,Coords:[28.146,50.204,83.944],IdPDB:\"5O75\",ResName:\"MET\",ResSeq:1165}), 'r': (d0d4c72)-[:NEAR_10A {Dist:3.823587582362932}]->(f637f9b), 'd': (d0d4c72:CAlpha {AtomSerial:545,Coords:[26.192,53.149,85.403],IdPDB:\"5O75\",ResName:\"TRP\",ResSeq:1164}))\n('c': (f637f9b:CAlpha {AtomSerial:559,Coords:[28.146,50.204,83.944],IdPDB:\"5O75\",ResName:\"MET\",ResSeq:1165}), 'r': (f637f9b)-[:NEAR_10A {Dist:3.8402201759795016}]->(e35c649), 'd': (e35c649:CAlpha {AtomSerial:567,Coords:[29.817,52.765,81.621],IdPDB:\"5O75\",ResName:\"ARG\",ResSeq:1166}))\n('c': (cf2476c:CAlpha {AtomSerial:496,Coords:[17.468,48.977,82.928],IdPDB:\"5O75\",ResName:\"LYS\",ResSeq:1158}), 'r': (cf2476c)-[:NEAR_10A {Dist:3.803625244421435}]->(c883a27), 'd': (c883a27:CAlpha {AtomSerial:505,Coords:[18.856,51.907,80.939],IdPDB:\"5O75\",ResName:\"GLU\",ResSeq:1159}))\n('c': (cf2476c:CAlpha {AtomSerial:496,Coords:[17.468,48.977,82.928],IdPDB:\"5O75\",ResName:\"LYS\",ResSeq:1158}), 'r': (eaac854)-[:NEAR_10A {Dist:3.823149225442301}]->(cf2476c), 'd': (eaac854:CAlpha {AtomSerial:488,Coords:[15.903,51.444,85.394],IdPDB:\"5O75\",ResName:\"LEU\",ResSeq:1157}))\n('c': (be34b9c:CAlpha {AtomSerial:418,Coords:[5.566,34.893,84.137],IdPDB:\"5O75\",ResName:\"GLU\",ResSeq:1148}), 'r': (f4752f8)-[:NEAR_10A {Dist:3.786198885425852}]->(be34b9c), 'd': (f4752f8:CAlpha {AtomSerial:411,Coords:[3.044,33.716,86.704],IdPDB:\"5O75\",ResName:\"THR\",ResSeq:1147}))\n('c': (be34b9c:CAlpha {AtomSerial:418,Coords:[5.566,34.893,84.137],IdPDB:\"5O75\",ResName:\"GLU\",ResSeq:1148}), 'r': (be34b9c)-[:NEAR_10A {Dist:3.8260243072934053}]->(afd6a35), 'd': (afd6a35:CAlpha {AtomSerial:427,Coords:[3.023,37.035,82.244],IdPDB:\"5O75\",ResName:\"SER\",ResSeq:1149}))\n('c': (a523085:CAlpha {AtomSerial:15,Coords:[23.855,51.462,94.506],IdPDB:\"5O75\",ResName:\"PRO\",ResSeq:1100}), 'r': (a523085)-[:NEAR_10A {Dist:3.7745476550177552}]->(dd8ec8e), 'd': (dd8ec8e:CAlpha {AtomSerial:22,Coords:[21.255,49.361,96.259],IdPDB:\"5O75\",ResName:\"ASP\",ResSeq:1101}))\n('c': (a523085:CAlpha {AtomSerial:15,Coords:[23.855,51.462,94.506],IdPDB:\"5O75\",ResName:\"PRO\",ResSeq:1100}), 'r': (a060aa3)-[:NEAR_10A {Dist:3.818972767643153}]->(a523085), 'd': (a060aa3:CAlpha {AtomSerial:10,Coords:[26.857,49.58,93.081],IdPDB:\"5O75\",ResName:\"ALA\",ResSeq:1099}))\n('c': (d4a1588:CAlpha {AtomSerial:269,Coords:[11.925,32.998,86.004],IdPDB:\"5O75\",ResName:\"LEU\",ResSeq:1130}), 'r': (d2a102e)-[:NEAR_10A {Dist:3.8151982910459545}]->(d4a1588), 'd': (d2a102e:CAlpha {AtomSerial:261,Coords:[12.35,35.081,89.172],IdPDB:\"5O75\",ResName:\"ILE\",ResSeq:1129}))\n('c': (d4a1588:CAlpha {AtomSerial:269,Coords:[11.925,32.998,86.004],IdPDB:\"5O75\",ResName:\"LEU\",ResSeq:1130}), 'r': (d4a1588)-[:NEAR_10A {Dist:3.8198740816943135}]->(cdffbe0), 'd': (cdffbe0:CAlpha {AtomSerial:277,Coords:[14.016,30.189,87.53],IdPDB:\"5O75\",ResName:\"ARG\",ResSeq:1131}))\n('c': (f2a1155:CAlpha {AtomSerial:138,Coords:[15.207,44.147,86.096],IdPDB:\"5O75\",ResName:\"PRO\",ResSeq:1115}), 'r': (f2a1155)-[:NEAR_10A {Dist:3.799291512900795}]->(d2c4f4d), 'd': (d2c4f4d:CAlpha {AtomSerial:145,Coords:[11.533,43.199,86.29],IdPDB:\"5O75\",ResName:\"VAL\",ResSeq:1116}))\n('c': (f2a1155:CAlpha {AtomSerial:138,Coords:[15.207,44.147,86.096],IdPDB:\"5O75\",ResName:\"PRO\",ResSeq:1115}), 'r': (d3abc5c)-[:NEAR_10A {Dist:3.8187602700352947}]->(f2a1155), 'd': (d3abc5c:CAlpha {AtomSerial:130,Coords:[17.423,42.704,83.341],IdPDB:\"5O75\",ResName:\"ASP\",ResSeq:1114}))\n('c': (e35c649:CAlpha {AtomSerial:567,Coords:[29.817,52.765,81.621],IdPDB:\"5O75\",ResName:\"ARG\",ResSeq:1166}), 'r': (e35c649)-[:NEAR_10A {Dist:3.8260938305274275}]->(ab32a60), 'd': (ab32a60:CAlpha {AtomSerial:578,Coords:[32.114,54.121,84.364],IdPDB:\"5O75\",ResName:\"GLU\",ResSeq:1167}))\n('c': (e35c649:CAlpha {AtomSerial:567,Coords:[29.817,52.765,81.621],IdPDB:\"5O75\",ResName:\"ARG\",ResSeq:1166}), 'r': (f637f9b)-[:NEAR_10A {Dist:3.8402201759795016}]->(e35c649), 'd': (f637f9b:CAlpha {AtomSerial:559,Coords:[28.146,50.204,83.944],IdPDB:\"5O75\",ResName:\"MET\",ResSeq:1165}))\n('c': (bcfcf9b:CAlpha {AtomSerial:357,Coords:[8.38,36.871,99.162],IdPDB:\"5O75\",ResName:\"PHE\",ResSeq:1141}), 'r': (cc0fccf)-[:NEAR_10A {Dist:3.8003844542361858}]->(bcfcf9b), 'd': (cc0fccf:CAlpha {AtomSerial:350,Coords:[8.719,34.12,96.562],IdPDB:\"5O75\",ResName:\"PRO\",ResSeq:1140}))\n('c': (bcfcf9b:CAlpha {AtomSerial:357,Coords:[8.38,36.871,99.162],IdPDB:\"5O75\",ResName:\"PHE\",ResSeq:1141}), 'r': (bcfcf9b)-[:NEAR_10A {Dist:3.824142518264715}]->(c06b04a), 'd': (c06b04a:CAlpha {AtomSerial:368,Coords:[4.651,37.086,99.982],IdPDB:\"5O75\",ResName:\"ASN\",ResSeq:1142}))\n('c': (a170235:CAlpha {AtomSerial:479,Coords:[14.149,53.388,82.653],IdPDB:\"5O75\",ResName:\"GLU\",ResSeq:1156}), 'r': (a4901f6)-[:NEAR_10A {Dist:3.8004355013603406}]->(a170235), 'd': (a4901f6:CAlpha {AtomSerial:472,Coords:[12.955,50.183,80.996],IdPDB:\"5O75\",ResName:\"PRO\",ResSeq:1155}))\n('c': (a170235:CAlpha {AtomSerial:479,Coords:[14.149,53.388,82.653],IdPDB:\"5O75\",ResName:\"GLU\",ResSeq:1156}), 'r': (a170235)-[:NEAR_10A {Dist:3.790611164443009}]->(eaac854), 'd': (eaac854:CAlpha {AtomSerial:488,Coords:[15.903,51.444,85.394],IdPDB:\"5O75\",ResName:\"LEU\",ResSeq:1157}))\n('c': (b047f3d:CAlpha {AtomSerial:84,Coords:[21.865,40.423,97.316],IdPDB:\"5O75\",ResName:\"MET\",ResSeq:1108}), 'r': (b178cb6)-[:NEAR_10A {Dist:3.804978055127255}]->(b047f3d), 'd': (b178cb6:CAlpha {AtomSerial:76,Coords:[19.137,41.266,99.831],IdPDB:\"5O75\",ResName:\"LEU\",ResSeq:1107}))\n('c': (b047f3d:CAlpha {AtomSerial:84,Coords:[21.865,40.423,97.316],IdPDB:\"5O75\",ResName:\"MET\",ResSeq:1108}), 'r': (b047f3d)-[:NEAR_10A {Dist:3.802421728319993}]->(b37aa00), 'd': (b37aa00:CAlpha {AtomSerial:92,Coords:[25.132,41.754,95.897],IdPDB:\"5O75\",ResName:\"ASP\",ResSeq:1109}))\n('c': (d89ed35:CAlpha {AtomSerial:212,Coords:[12.087,44.558,91.586],IdPDB:\"5O75\",ResName:\"ILE\",ResSeq:1123}), 'r': (ca87eff)-[:NEAR_10A {Dist:3.8164436324934794}]->(d89ed35), 'd': (ca87eff:CAlpha {AtomSerial:205,Coords:[9.511,43.833,94.307],IdPDB:\"5O75\",ResName:\"THR\",ResSeq:1122}))\n('c': (d89ed35:CAlpha {AtomSerial:212,Coords:[12.087,44.558,91.586],IdPDB:\"5O75\",ResName:\"ILE\",ResSeq:1123}), 'r': (d89ed35)-[:NEAR_10A {Dist:3.7977794828030786}]->(ab1b765), 'd': (ab1b765:CAlpha {AtomSerial:220,Coords:[14.547,41.763,90.838],IdPDB:\"5O75\",ResName:\"MET\",ResSeq:1124}))\n('c': (c883a27:CAlpha {AtomSerial:505,Coords:[18.856,51.907,80.939],IdPDB:\"5O75\",ResName:\"GLU\",ResSeq:1159}), 'r': (cf2476c)-[:NEAR_10A {Dist:3.803625244421435}]->(c883a27), 'd': (cf2476c:CAlpha {AtomSerial:496,Coords:[17.468,48.977,82.928],IdPDB:\"5O75\",ResName:\"LYS\",ResSeq:1158}))\n('c': (c883a27:CAlpha {AtomSerial:505,Coords:[18.856,51.907,80.939],IdPDB:\"5O75\",ResName:\"GLU\",ResSeq:1159}), 'r': (c883a27)-[:NEAR_10A {Dist:3.818510442567894}]->(ba72c56), 'd': (ba72c56:CAlpha {AtomSerial:514,Coords:[20.079,53.664,84.101],IdPDB:\"5O75\",ResName:\"GLN\",ResSeq:1160}))\n('c': (afd6a35:CAlpha {AtomSerial:427,Coords:[3.023,37.035,82.244],IdPDB:\"5O75\",ResName:\"SER\",ResSeq:1149}), 'r': (afd6a35)-[:NEAR_10A {Dist:3.8209035580605826}]->(e433e70), 'd': (e433e70:CAlpha {AtomSerial:433,Coords:[2.471,39.185,85.354],IdPDB:\"5O75\",ResName:\"MET\",ResSeq:1150}))\n('c': (afd6a35:CAlpha {AtomSerial:427,Coords:[3.023,37.035,82.244],IdPDB:\"5O75\",ResName:\"SER\",ResSeq:1149}), 'r': (be34b9c)-[:NEAR_10A {Dist:3.8260243072934053}]->(afd6a35), 'd': (be34b9c:CAlpha {AtomSerial:418,Coords:[5.566,34.893,84.137],IdPDB:\"5O75\",ResName:\"GLU\",ResSeq:1148}))\n('c': (dd8ec8e:CAlpha {AtomSerial:22,Coords:[21.255,49.361,96.259],IdPDB:\"5O75\",ResName:\"ASP\",ResSeq:1101}), 'r': (dd8ec8e)-[:NEAR_10A {Dist:3.8007953115104725}]->(b4f8233), 'd': (b4f8233:CAlpha {AtomSerial:30,Coords:[18.516,50.091,93.727],IdPDB:\"5O75\",ResName:\"GLU\",ResSeq:1102}))\n('c': (dd8ec8e:CAlpha {AtomSerial:22,Coords:[21.255,49.361,96.259],IdPDB:\"5O75\",ResName:\"ASP\",ResSeq:1101}), 'r': (a523085)-[:NEAR_10A {Dist:3.7745476550177552}]->(dd8ec8e), 'd': (a523085:CAlpha {AtomSerial:15,Coords:[23.855,51.462,94.506],IdPDB:\"5O75\",ResName:\"PRO\",ResSeq:1100}))\n('c': (d3abc5c:CAlpha {AtomSerial:130,Coords:[17.423,42.704,83.341],IdPDB:\"5O75\",ResName:\"ASP\",ResSeq:1114}), 'r': (d3abc5c)-[:NEAR_10A {Dist:3.8187602700352947}]->(f2a1155), 'd': (f2a1155:CAlpha {AtomSerial:138,Coords:[15.207,44.147,86.096],IdPDB:\"5O75\",ResName:\"PRO\",ResSeq:1115}))\n('c': (d3abc5c:CAlpha {AtomSerial:130,Coords:[17.423,42.704,83.341],IdPDB:\"5O75\",ResName:\"ASP\",ResSeq:1114}), 'r': (c7dacc8)-[:NEAR_10A {Dist:3.8346625666412995}]->(d3abc5c), 'd': (c7dacc8:CAlpha {AtomSerial:123,Coords:[21.068,43.5,84.227],IdPDB:\"5O75\",ResName:\"THR\",ResSeq:1113}))\n('c': (cdffbe0:CAlpha {AtomSerial:277,Coords:[14.016,30.189,87.53],IdPDB:\"5O75\",ResName:\"ARG\",ResSeq:1131}), 'r': (cdffbe0)-[:NEAR_10A {Dist:3.7976405833095876}]->(a3ea3a2), 'd': (a3ea3a2:CAlpha {AtomSerial:288,Coords:[11.959,30.373,90.717],IdPDB:\"5O75\",ResName:\"HIS\",ResSeq:1132}))\n('c': (cdffbe0:CAlpha {AtomSerial:277,Coords:[14.016,30.189,87.53],IdPDB:\"5O75\",ResName:\"ARG\",ResSeq:1131}), 'r': (d4a1588)-[:NEAR_10A {Dist:3.8198740816943135}]->(cdffbe0), 'd': (d4a1588:CAlpha {AtomSerial:269,Coords:[11.925,32.998,86.004],IdPDB:\"5O75\",ResName:\"LEU\",ResSeq:1130}))\n('c': (ab32a60:CAlpha {AtomSerial:578,Coords:[32.114,54.121,84.364],IdPDB:\"5O75\",ResName:\"GLU\",ResSeq:1167}), 'r': (e35c649)-[:NEAR_10A {Dist:3.8260938305274275}]->(ab32a60), 'd': (e35c649:CAlpha {AtomSerial:567,Coords:[29.817,52.765,81.621],IdPDB:\"5O75\",ResName:\"ARG\",ResSeq:1166}))\n('c': (ab32a60:CAlpha {AtomSerial:578,Coords:[32.114,54.121,84.364],IdPDB:\"5O75\",ResName:\"GLU\",ResSeq:1167}), 'r': (ab32a60)-[:NEAR_10A {Dist:3.810370454430915}]->(ea5eb22), 'd': (ea5eb22:CAlpha {AtomSerial:587,Coords:[35.133,51.87,83.783],IdPDB:\"5O75\",ResName:\"LYS\",ResSeq:1168}))\n('c': (eaac854:CAlpha {AtomSerial:488,Coords:[15.903,51.444,85.394],IdPDB:\"5O75\",ResName:\"LEU\",ResSeq:1157}), 'r': (a170235)-[:NEAR_10A {Dist:3.790611164443009}]->(eaac854), 'd': (a170235:CAlpha {AtomSerial:479,Coords:[14.149,53.388,82.653],IdPDB:\"5O75\",ResName:\"GLU\",ResSeq:1156}))\n('c': (eaac854:CAlpha {AtomSerial:488,Coords:[15.903,51.444,85.394],IdPDB:\"5O75\",ResName:\"LEU\",ResSeq:1157}), 'r': (eaac854)-[:NEAR_10A {Dist:3.823149225442301}]->(cf2476c), 'd': (cf2476c:CAlpha {AtomSerial:496,Coords:[17.468,48.977,82.928],IdPDB:\"5O75\",ResName:\"LYS\",ResSeq:1158}))\n('c': (cc0fccf:CAlpha {AtomSerial:350,Coords:[8.719,34.12,96.562],IdPDB:\"5O75\",ResName:\"PRO\",ResSeq:1140}), 'r': (b36d543)-[:NEAR_10A {Dist:3.8354547318408008}]->(cc0fccf), 'd': (b36d543:CAlpha {AtomSerial:342,Coords:[5.751,35.355,94.47],IdPDB:\"5O75\",ResName:\"ASP\",ResSeq:1139}))\n('c': (cc0fccf:CAlpha {AtomSerial:350,Coords:[8.719,34.12,96.562],IdPDB:\"5O75\",ResName:\"PRO\",ResSeq:1140}), 'r': (cc0fccf)-[:NEAR_10A {Dist:3.8003844542361858}]->(bcfcf9b), 'd': (bcfcf9b:CAlpha {AtomSerial:357,Coords:[8.38,36.871,99.162],IdPDB:\"5O75\",ResName:\"PHE\",ResSeq:1141}))\n('c': (b37aa00:CAlpha {AtomSerial:92,Coords:[25.132,41.754,95.897],IdPDB:\"5O75\",ResName:\"ASP\",ResSeq:1109}), 'r': (b37aa00)-[:NEAR_10A {Dist:3.802000920568009}]->(ef4d01e), 'd': (ef4d01e:CAlpha {AtomSerial:100,Coords:[24.239,40.923,92.296],IdPDB:\"5O75\",ResName:\"THR\",ResSeq:1110}))\n('c': (b37aa00:CAlpha {AtomSerial:92,Coords:[25.132,41.754,95.897],IdPDB:\"5O75\",ResName:\"ASP\",ResSeq:1109}), 'r': (b047f3d)-[:NEAR_10A {Dist:3.802421728319993}]->(b37aa00), 'd': (b047f3d:CAlpha {AtomSerial:84,Coords:[21.865,40.423,97.316],IdPDB:\"5O75\",ResName:\"MET\",ResSeq:1108}))\n('c': (ca87eff:CAlpha {AtomSerial:205,Coords:[9.511,43.833,94.307],IdPDB:\"5O75\",ResName:\"THR\",ResSeq:1122}), 'r': (ca87eff)-[:NEAR_10A {Dist:3.8164436324934794}]->(d89ed35), 'd': (d89ed35:CAlpha {AtomSerial:212,Coords:[12.087,44.558,91.586],IdPDB:\"5O75\",ResName:\"ILE\",ResSeq:1123}))\n('c': (ca87eff:CAlpha {AtomSerial:205,Coords:[9.511,43.833,94.307],IdPDB:\"5O75\",ResName:\"THR\",ResSeq:1122}), 'r': (b3d2719)-[:NEAR_10A {Dist:3.7959643043632547}]->(ca87eff), 'd': (b3d2719:CAlpha {AtomSerial:201,Coords:[6.338,45.887,93.957],IdPDB:\"5O75\",ResName:\"GLY\",ResSeq:1121}))\n('c': (dd9d4ae:CAlpha {AtomSerial:403,Coords:[2.626,34.616,90.358],IdPDB:\"5O75\",ResName:\"LEU\",ResSeq:1146}), 'r': (dd9d4ae)-[:NEAR_10A {Dist:3.7863491650929495}]->(f4752f8), 'd': (f4752f8:CAlpha {AtomSerial:411,Coords:[3.044,33.716,86.704],IdPDB:\"5O75\",ResName:\"THR\",ResSeq:1147}))\n('c': (dd9d4ae:CAlpha {AtomSerial:403,Coords:[2.626,34.616,90.358],IdPDB:\"5O75\",ResName:\"LEU\",ResSeq:1146}), 'r': (e6a2564)-[:NEAR_10A {Dist:3.799115818187168}]->(dd9d4ae), 'd': (e6a2564:CAlpha {AtomSerial:396,Coords:[0.146,33.425,92.978],IdPDB:\"5O75\",ResName:\"THR\",ResSeq:1145}))\n('c': (ba72c56:CAlpha {AtomSerial:514,Coords:[20.079,53.664,84.101],IdPDB:\"5O75\",ResName:\"GLN\",ResSeq:1160}), 'r': (c883a27)-[:NEAR_10A {Dist:3.818510442567894}]->(ba72c56), 'd': (c883a27:CAlpha {AtomSerial:505,Coords:[18.856,51.907,80.939],IdPDB:\"5O75\",ResName:\"GLU\",ResSeq:1159}))\n('c': (ba72c56:CAlpha {AtomSerial:514,Coords:[20.079,53.664,84.101],IdPDB:\"5O75\",ResName:\"GLN\",ResSeq:1160}), 'r': (ba72c56)-[:NEAR_10A {Dist:3.809922571391708}]->(afd0bca), 'd': (afd0bca:CAlpha {AtomSerial:523,Coords:[21.969,50.511,85.102],IdPDB:\"5O75\",ResName:\"ILE\",ResSeq:1161}))\n('c': (a3ea3a2:CAlpha {AtomSerial:288,Coords:[11.959,30.373,90.717],IdPDB:\"5O75\",ResName:\"HIS\",ResSeq:1132}), 'r': (cdffbe0)-[:NEAR_10A {Dist:3.7976405833095876}]->(a3ea3a2), 'd': (cdffbe0:CAlpha {AtomSerial:277,Coords:[14.016,30.189,87.53],IdPDB:\"5O75\",ResName:\"ARG\",ResSeq:1131}))\n('c': (a3ea3a2:CAlpha {AtomSerial:288,Coords:[11.959,30.373,90.717],IdPDB:\"5O75\",ResName:\"HIS\",ResSeq:1132}), 'r': (a3ea3a2)-[:NEAR_10A {Dist:3.8168020645561365}]->(b8f1f85), 'd': (b8f1f85:CAlpha {AtomSerial:298,Coords:[8.762,30.085,88.652],IdPDB:\"5O75\",ResName:\"LEU\",ResSeq:1133}))\n('c': (a9f0ea2:CAlpha {AtomSerial:153,Coords:[8.818,44.365,88.671],IdPDB:\"5O75\",ResName:\"ARG\",ResSeq:1117}), 'r': (a9f0ea2)-[:NEAR_10A {Dist:3.8036607367114112}]->(dfd8ed6), 'd': (dfd8ed6:CAlpha {AtomSerial:174,Coords:[6.473,41.852,90.3],IdPDB:\"5O75\",ResName:\"LEU\",ResSeq:1118}))\n('c': (a9f0ea2:CAlpha {AtomSerial:153,Coords:[8.818,44.365,88.671],IdPDB:\"5O75\",ResName:\"ARG\",ResSeq:1117}), 'r': (d2c4f4d)-[:NEAR_10A {Dist:3.7947255500233488}]->(a9f0ea2), 'd': (d2c4f4d:CAlpha {AtomSerial:145,Coords:[11.533,43.199,86.29],IdPDB:\"5O75\",ResName:\"VAL\",ResSeq:1116}))\n('c': (d8a09a5:CAlpha {AtomSerial:2,Coords:[30.306,48.913,94.546],IdPDB:\"5O75\",ResName:\"ASP\",ResSeq:1098}), 'r': (d8a09a5)-[:NEAR_10A {Dist:3.8061417472290784}]->(a060aa3), 'd': (a060aa3:CAlpha {AtomSerial:10,Coords:[26.857,49.58,93.081],IdPDB:\"5O75\",ResName:\"ALA\",ResSeq:1099}))\n('c': (b36d543:CAlpha {AtomSerial:342,Coords:[5.751,35.355,94.47],IdPDB:\"5O75\",ResName:\"ASP\",ResSeq:1139}), 'r': (b36d543)-[:NEAR_10A {Dist:3.8354547318408008}]->(cc0fccf), 'd': (cc0fccf:CAlpha {AtomSerial:350,Coords:[8.719,34.12,96.562],IdPDB:\"5O75\",ResName:\"PRO\",ResSeq:1140}))\n('c': (b36d543:CAlpha {AtomSerial:342,Coords:[5.751,35.355,94.47],IdPDB:\"5O75\",ResName:\"ASP\",ResSeq:1139}), 'r': (a7267d1)-[:NEAR_10A {Dist:3.7502582577737185}]->(b36d543), 'd': (a7267d1:CAlpha {AtomSerial:335,Coords:[4.371,31.981,93.589],IdPDB:\"5O75\",ResName:\"THR\",ResSeq:1138}))\n('c': (e53a310:CAlpha {AtomSerial:465,Coords:[11.409,48.506,84.059],IdPDB:\"5O75\",ResName:\"VAL\",ResSeq:1154}), 'r': (e53a310)-[:NEAR_10A {Dist:3.818954568988745}]->(a4901f6), 'd': (a4901f6:CAlpha {AtomSerial:472,Coords:[12.955,50.183,80.996],IdPDB:\"5O75\",ResName:\"PRO\",ResSeq:1155}))\n('c': (e53a310:CAlpha {AtomSerial:465,Coords:[11.409,48.506,84.059],IdPDB:\"5O75\",ResName:\"VAL\",ResSeq:1154}), 'r': (c42a2fe)-[:NEAR_10A {Dist:3.7938278822318763}]->(e53a310), 'd': (c42a2fe:CAlpha {AtomSerial:458,Coords:[9.985,45.361,82.486],IdPDB:\"5O75\",ResName:\"PRO\",ResSeq:1153}))\n('c': (ea5eb22:CAlpha {AtomSerial:587,Coords:[35.133,51.87,83.783],IdPDB:\"5O75\",ResName:\"LYS\",ResSeq:1168}), 'r': (ab32a60)-[:NEAR_10A {Dist:3.810370454430915}]->(ea5eb22), 'd': (ab32a60:CAlpha {AtomSerial:578,Coords:[32.114,54.121,84.364],IdPDB:\"5O75\",ResName:\"GLU\",ResSeq:1167}))\n('c': (e920f3f:CAlpha {AtomSerial:228,Coords:[16.448,40.262,87.951],IdPDB:\"5O75\",ResName:\"ASP\",ResSeq:1125}), 'r': (e920f3f)-[:NEAR_10A {Dist:3.7728050572485152}]->(d80876d), 'd': (d80876d:CAlpha {AtomSerial:236,Coords:[14.388,38.469,85.348],IdPDB:\"5O75\",ResName:\"ARG\",ResSeq:1126}))\n('c': (e920f3f:CAlpha {AtomSerial:228,Coords:[16.448,40.262,87.951],IdPDB:\"5O75\",ResName:\"ASP\",ResSeq:1125}), 'r': (ab1b765)-[:NEAR_10A {Dist:3.7684971805747707}]->(e920f3f), 'd': (ab1b765:CAlpha {AtomSerial:220,Coords:[14.547,41.763,90.838],IdPDB:\"5O75\",ResName:\"MET\",ResSeq:1124}))\n('c': (aca3fac:CAlpha {AtomSerial:69,Coords:[16.797,42.139,96.937],IdPDB:\"5O75\",ResName:\"PRO\",ResSeq:1106}), 'r': (b358341)-[:NEAR_10A {Dist:3.8383925020768768}]->(aca3fac), 'd': (b358341:CAlpha {AtomSerial:61,Coords:[18.674,42.171,93.589],IdPDB:\"5O75\",ResName:\"ASP\",ResSeq:1105}))\n('c': (aca3fac:CAlpha {AtomSerial:69,Coords:[16.797,42.139,96.937],IdPDB:\"5O75\",ResName:\"PRO\",ResSeq:1106}), 'r': (aca3fac)-[:NEAR_10A {Dist:3.822690806225379}]->(b178cb6), 'd': (b178cb6:CAlpha {AtomSerial:76,Coords:[19.137,41.266,99.831],IdPDB:\"5O75\",ResName:\"LEU\",ResSeq:1107}))\n('c': (f4752f8:CAlpha {AtomSerial:411,Coords:[3.044,33.716,86.704],IdPDB:\"5O75\",ResName:\"THR\",ResSeq:1147}), 'r': (dd9d4ae)-[:NEAR_10A {Dist:3.7863491650929495}]->(f4752f8), 'd': (dd9d4ae:CAlpha {AtomSerial:403,Coords:[2.626,34.616,90.358],IdPDB:\"5O75\",ResName:\"LEU\",ResSeq:1146}))\n('c': (f4752f8:CAlpha {AtomSerial:411,Coords:[3.044,33.716,86.704],IdPDB:\"5O75\",ResName:\"THR\",ResSeq:1147}), 'r': (f4752f8)-[:NEAR_10A {Dist:3.786198885425852}]->(be34b9c), 'd': (be34b9c:CAlpha {AtomSerial:418,Coords:[5.566,34.893,84.137],IdPDB:\"5O75\",ResName:\"GLU\",ResSeq:1148}))\n('c': (afd0bca:CAlpha {AtomSerial:523,Coords:[21.969,50.511,85.102],IdPDB:\"5O75\",ResName:\"ILE\",ResSeq:1161}), 'r': (ba72c56)-[:NEAR_10A {Dist:3.809922571391708}]->(afd0bca), 'd': (ba72c56:CAlpha {AtomSerial:514,Coords:[20.079,53.664,84.101],IdPDB:\"5O75\",ResName:\"GLN\",ResSeq:1160}))\n('c': (afd0bca:CAlpha {AtomSerial:523,Coords:[21.969,50.511,85.102],IdPDB:\"5O75\",ResName:\"ILE\",ResSeq:1161}), 'r': (afd0bca)-[:NEAR_10A {Dist:3.8073767872381654}]->(fd8cc4a), 'd': (fd8cc4a:CAlpha {AtomSerial:531,Coords:[23.62,50.172,81.688],IdPDB:\"5O75\",ResName:\"GLN\",ResSeq:1162}))\n('c': (d2c4f4d:CAlpha {AtomSerial:145,Coords:[11.533,43.199,86.29],IdPDB:\"5O75\",ResName:\"VAL\",ResSeq:1116}), 'r': (d2c4f4d)-[:NEAR_10A {Dist:3.7947255500233488}]->(a9f0ea2), 'd': (a9f0ea2:CAlpha {AtomSerial:153,Coords:[8.818,44.365,88.671],IdPDB:\"5O75\",ResName:\"ARG\",ResSeq:1117}))\n('c': (d2c4f4d:CAlpha {AtomSerial:145,Coords:[11.533,43.199,86.29],IdPDB:\"5O75\",ResName:\"VAL\",ResSeq:1116}), 'r': (f2a1155)-[:NEAR_10A {Dist:3.799291512900795}]->(d2c4f4d), 'd': (f2a1155:CAlpha {AtomSerial:138,Coords:[15.207,44.147,86.096],IdPDB:\"5O75\",ResName:\"PRO\",ResSeq:1115}))\n('c': (b8f1f85:CAlpha {AtomSerial:298,Coords:[8.762,30.085,88.652],IdPDB:\"5O75\",ResName:\"LEU\",ResSeq:1133}), 'r': (a3ea3a2)-[:NEAR_10A {Dist:3.8168020645561365}]->(b8f1f85), 'd': (a3ea3a2:CAlpha {AtomSerial:288,Coords:[11.959,30.373,90.717],IdPDB:\"5O75\",ResName:\"HIS\",ResSeq:1132}))\n('c': (b8f1f85:CAlpha {AtomSerial:298,Coords:[8.762,30.085,88.652],IdPDB:\"5O75\",ResName:\"LEU\",ResSeq:1133}), 'r': (b8f1f85)-[:NEAR_10A {Dist:3.8078630490079353}]->(c2660e3), 'd': (c2660e3:CAlpha {AtomSerial:306,Coords:[10.048,26.864,87.08],IdPDB:\"5O75\",ResName:\"LEU\",ResSeq:1134}))\n('c': (a060aa3:CAlpha {AtomSerial:10,Coords:[26.857,49.58,93.081],IdPDB:\"5O75\",ResName:\"ALA\",ResSeq:1099}), 'r': (a060aa3)-[:NEAR_10A {Dist:3.818972767643153}]->(a523085), 'd': (a523085:CAlpha {AtomSerial:15,Coords:[23.855,51.462,94.506],IdPDB:\"5O75\",ResName:\"PRO\",ResSeq:1100}))\n('c': (a060aa3:CAlpha {AtomSerial:10,Coords:[26.857,49.58,93.081],IdPDB:\"5O75\",ResName:\"ALA\",ResSeq:1099}), 'r': (d8a09a5)-[:NEAR_10A {Dist:3.8061417472290784}]->(a060aa3), 'd': (d8a09a5:CAlpha {AtomSerial:2,Coords:[30.306,48.913,94.546],IdPDB:\"5O75\",ResName:\"ASP\",ResSeq:1098}))\n('c': (a4901f6:CAlpha {AtomSerial:472,Coords:[12.955,50.183,80.996],IdPDB:\"5O75\",ResName:\"PRO\",ResSeq:1155}), 'r': (e53a310)-[:NEAR_10A {Dist:3.818954568988745}]->(a4901f6), 'd': (e53a310:CAlpha {AtomSerial:465,Coords:[11.409,48.506,84.059],IdPDB:\"5O75\",ResName:\"VAL\",ResSeq:1154}))\n('c': (a4901f6:CAlpha {AtomSerial:472,Coords:[12.955,50.183,80.996],IdPDB:\"5O75\",ResName:\"PRO\",ResSeq:1155}), 'r': (a4901f6)-[:NEAR_10A {Dist:3.8004355013603406}]->(a170235), 'd': (a170235:CAlpha {AtomSerial:479,Coords:[14.149,53.388,82.653],IdPDB:\"5O75\",ResName:\"GLU\",ResSeq:1156}))\n('c': (a7267d1:CAlpha {AtomSerial:335,Coords:[4.371,31.981,93.589],IdPDB:\"5O75\",ResName:\"THR\",ResSeq:1138}), 'r': (ba7eb87)-[:NEAR_10A {Dist:3.8021643836109997}]->(a7267d1), 'd': (ba7eb87:CAlpha {AtomSerial:328,Coords:[3.94,29.534,90.711],IdPDB:\"5O75\",ResName:\"PRO\",ResSeq:1137}))\n('c': (a7267d1:CAlpha {AtomSerial:335,Coords:[4.371,31.981,93.589],IdPDB:\"5O75\",ResName:\"THR\",ResSeq:1138}), 'r': (a7267d1)-[:NEAR_10A {Dist:3.7502582577737185}]->(b36d543), 'd': (b36d543:CAlpha {AtomSerial:342,Coords:[5.751,35.355,94.47],IdPDB:\"5O75\",ResName:\"ASP\",ResSeq:1139}))\n('c': (ab1b765:CAlpha {AtomSerial:220,Coords:[14.547,41.763,90.838],IdPDB:\"5O75\",ResName:\"MET\",ResSeq:1124}), 'r': (ab1b765)-[:NEAR_10A {Dist:3.7684971805747707}]->(e920f3f), 'd': (e920f3f:CAlpha {AtomSerial:228,Coords:[16.448,40.262,87.951],IdPDB:\"5O75\",ResName:\"ASP\",ResSeq:1125}))\n('c': (ab1b765:CAlpha {AtomSerial:220,Coords:[14.547,41.763,90.838],IdPDB:\"5O75\",ResName:\"MET\",ResSeq:1124}), 'r': (d89ed35)-[:NEAR_10A {Dist:3.7977794828030786}]->(ab1b765), 'd': (d89ed35:CAlpha {AtomSerial:212,Coords:[12.087,44.558,91.586],IdPDB:\"5O75\",ResName:\"ILE\",ResSeq:1123}))\n('c': (b178cb6:CAlpha {AtomSerial:76,Coords:[19.137,41.266,99.831],IdPDB:\"5O75\",ResName:\"LEU\",ResSeq:1107}), 'r': (aca3fac)-[:NEAR_10A {Dist:3.822690806225379}]->(b178cb6), 'd': (aca3fac:CAlpha {AtomSerial:69,Coords:[16.797,42.139,96.937],IdPDB:\"5O75\",ResName:\"PRO\",ResSeq:1106}))\n('c': (b178cb6:CAlpha {AtomSerial:76,Coords:[19.137,41.266,99.831],IdPDB:\"5O75\",ResName:\"LEU\",ResSeq:1107}), 'r': (b178cb6)-[:NEAR_10A {Dist:3.804978055127255}]->(b047f3d), 'd': (b047f3d:CAlpha {AtomSerial:84,Coords:[21.865,40.423,97.316],IdPDB:\"5O75\",ResName:\"MET\",ResSeq:1108}))\n"
     ]
    }
   ],
   "source": [
    "for d in dat1:\n",
    "\tprint(d)"
   ]
  },
  {
   "cell_type": "code",
   "execution_count": 19,
   "metadata": {},
   "outputs": [
    {
     "name": "stdout",
     "output_type": "stream",
     "text": [
      "<class 'py2neo.database.Record'>\n"
     ]
    }
   ],
   "source": [
    "print( type(dat1.current()) )"
   ]
  },
  {
   "cell_type": "code",
   "execution_count": 20,
   "metadata": {},
   "outputs": [
    {
     "name": "stdout",
     "output_type": "stream",
     "text": [
      "<class 'dict'>\n"
     ]
    }
   ],
   "source": [
    "print( type(dat1.current().data()))"
   ]
  },
  {
   "cell_type": "code",
   "execution_count": 21,
   "metadata": {},
   "outputs": [
    {
     "name": "stdout",
     "output_type": "stream",
     "text": [
      "{'c': (b178cb6:CAlpha {AtomSerial:76,Coords:[19.137,41.266,99.831],IdPDB:\"5O75\",ResName:\"LEU\",ResSeq:1107}), 'r': (b178cb6)-[:NEAR_10A {Dist:3.804978055127255}]->(b047f3d), 'd': (b047f3d:CAlpha {AtomSerial:84,Coords:[21.865,40.423,97.316],IdPDB:\"5O75\",ResName:\"MET\",ResSeq:1108})}\n"
     ]
    }
   ],
   "source": [
    "print( dat1.current().data()\n",
    "\t   )"
   ]
  },
  {
   "cell_type": "code",
   "execution_count": 22,
   "metadata": {},
   "outputs": [],
   "source": [
    "import networkx as nx"
   ]
  },
  {
   "cell_type": "code",
   "execution_count": 26,
   "metadata": {},
   "outputs": [],
   "source": [
    "data1 = dat1.current().data()"
   ]
  },
  {
   "cell_type": "code",
   "execution_count": 24,
   "metadata": {},
   "outputs": [],
   "source": [
    "from pandas import DataFrame"
   ]
  },
  {
   "cell_type": "code",
   "execution_count": 28,
   "metadata": {},
   "outputs": [],
   "source": [
    "df1 = DataFrame(data1)"
   ]
  },
  {
   "cell_type": "code",
   "execution_count": 29,
   "metadata": {},
   "outputs": [
    {
     "data": {
      "text/html": [
       "<div>\n",
       "<style scoped>\n",
       "    .dataframe tbody tr th:only-of-type {\n",
       "        vertical-align: middle;\n",
       "    }\n",
       "\n",
       "    .dataframe tbody tr th {\n",
       "        vertical-align: top;\n",
       "    }\n",
       "\n",
       "    .dataframe thead th {\n",
       "        text-align: right;\n",
       "    }\n",
       "</style>\n",
       "<table border=\"1\" class=\"dataframe\">\n",
       "  <thead>\n",
       "    <tr style=\"text-align: right;\">\n",
       "      <th></th>\n",
       "      <th>c</th>\n",
       "      <th>d</th>\n",
       "      <th>r</th>\n",
       "    </tr>\n",
       "  </thead>\n",
       "  <tbody>\n",
       "    <tr>\n",
       "      <th>AtomSerial</th>\n",
       "      <td>76</td>\n",
       "      <td>84</td>\n",
       "      <td>NaN</td>\n",
       "    </tr>\n",
       "    <tr>\n",
       "      <th>Coords</th>\n",
       "      <td>[19.137, 41.266, 99.831]</td>\n",
       "      <td>[21.865, 40.423, 97.316]</td>\n",
       "      <td>NaN</td>\n",
       "    </tr>\n",
       "    <tr>\n",
       "      <th>Dist</th>\n",
       "      <td>NaN</td>\n",
       "      <td>NaN</td>\n",
       "      <td>3.804978</td>\n",
       "    </tr>\n",
       "    <tr>\n",
       "      <th>IdPDB</th>\n",
       "      <td>5O75</td>\n",
       "      <td>5O75</td>\n",
       "      <td>NaN</td>\n",
       "    </tr>\n",
       "    <tr>\n",
       "      <th>ResName</th>\n",
       "      <td>LEU</td>\n",
       "      <td>MET</td>\n",
       "      <td>NaN</td>\n",
       "    </tr>\n",
       "    <tr>\n",
       "      <th>ResSeq</th>\n",
       "      <td>1107</td>\n",
       "      <td>1108</td>\n",
       "      <td>NaN</td>\n",
       "    </tr>\n",
       "  </tbody>\n",
       "</table>\n",
       "</div>"
      ],
      "text/plain": [
       "<div>\n",
       "<style scoped>\n",
       "    .dataframe tbody tr th:only-of-type {\n",
       "        vertical-align: middle;\n",
       "    }\n",
       "\n",
       "    .dataframe tbody tr th {\n",
       "        vertical-align: top;\n",
       "    }\n",
       "\n",
       "    .dataframe thead th {\n",
       "        text-align: right;\n",
       "    }\n",
       "</style>\n",
       "<table border=\"1\" class=\"dataframe\">\n",
       "  <thead>\n",
       "    <tr style=\"text-align: right;\">\n",
       "      <th></th>\n",
       "      <th>c</th>\n",
       "      <th>d</th>\n",
       "      <th>r</th>\n",
       "    </tr>\n",
       "  </thead>\n",
       "  <tbody>\n",
       "    <tr>\n",
       "      <th>AtomSerial</th>\n",
       "      <td>76</td>\n",
       "      <td>84</td>\n",
       "      <td>NaN</td>\n",
       "    </tr>\n",
       "    <tr>\n",
       "      <th>Coords</th>\n",
       "      <td>[19.137, 41.266, 99.831]</td>\n",
       "      <td>[21.865, 40.423, 97.316]</td>\n",
       "      <td>NaN</td>\n",
       "    </tr>\n",
       "    <tr>\n",
       "      <th>Dist</th>\n",
       "      <td>NaN</td>\n",
       "      <td>NaN</td>\n",
       "      <td>3.804978</td>\n",
       "    </tr>\n",
       "    <tr>\n",
       "      <th>IdPDB</th>\n",
       "      <td>5O75</td>\n",
       "      <td>5O75</td>\n",
       "      <td>NaN</td>\n",
       "    </tr>\n",
       "    <tr>\n",
       "      <th>ResName</th>\n",
       "      <td>LEU</td>\n",
       "      <td>MET</td>\n",
       "      <td>NaN</td>\n",
       "    </tr>\n",
       "    <tr>\n",
       "      <th>ResSeq</th>\n",
       "      <td>1107</td>\n",
       "      <td>1108</td>\n",
       "      <td>NaN</td>\n",
       "    </tr>\n",
       "  </tbody>\n",
       "</table>\n",
       "</div>"
      ]
     },
     "execution_count": 29,
     "metadata": {},
     "output_type": "execute_result"
    }
   ],
   "source": [
    "df1"
   ]
  },
  {
   "cell_type": "code",
   "execution_count": 30,
   "metadata": {},
   "outputs": [
    {
     "data": {
      "text/plain": [
       "{'c': (b178cb6:CAlpha {AtomSerial:76,Coords:[19.137,41.266,99.831],IdPDB:\"5O75\",ResName:\"LEU\",ResSeq:1107}),\n 'd': (b047f3d:CAlpha {AtomSerial:84,Coords:[21.865,40.423,97.316],IdPDB:\"5O75\",ResName:\"MET\",ResSeq:1108}),\n 'r': (b178cb6)-[:NEAR_10A {Dist:3.804978055127255}]->(b047f3d)}"
      ]
     },
     "execution_count": 30,
     "metadata": {},
     "output_type": "execute_result"
    }
   ],
   "source": [
    "data1"
   ]
  },
  {
   "cell_type": "code",
   "execution_count": 32,
   "metadata": {},
   "outputs": [
    {
     "data": {
      "text/plain": [
       "(b178cb6:CAlpha {AtomSerial:76,Coords:[19.137,41.266,99.831],IdPDB:\"5O75\",ResName:\"LEU\",ResSeq:1107})"
      ]
     },
     "execution_count": 32,
     "metadata": {},
     "output_type": "execute_result"
    }
   ],
   "source": [
    "data1['c']"
   ]
  },
  {
   "cell_type": "code",
   "execution_count": 37,
   "metadata": {},
   "outputs": [
    {
     "data": {
      "text/plain": [
       "py2neo.types.Node"
      ]
     },
     "execution_count": 37,
     "metadata": {},
     "output_type": "execute_result"
    }
   ],
   "source": [
    "type(data1['c'])"
   ]
  },
  {
   "cell_type": "code",
   "execution_count": 38,
   "metadata": {},
   "outputs": [
    {
     "data": {
      "text/plain": [
       "SetView({'CAlpha'})"
      ]
     },
     "execution_count": 38,
     "metadata": {},
     "output_type": "execute_result"
    }
   ],
   "source": [
    "data1['c'].labels()"
   ]
  },
  {
   "cell_type": "code",
   "execution_count": 40,
   "metadata": {},
   "outputs": [
    {
     "data": {
      "text/plain": [
       "1107"
      ]
     },
     "execution_count": 40,
     "metadata": {},
     "output_type": "execute_result"
    }
   ],
   "source": [
    "data1['c']['ResSeq']"
   ]
  },
  {
   "cell_type": "code",
   "execution_count": 41,
   "metadata": {},
   "outputs": [
    {
     "data": {
      "text/plain": [
       "2058248079"
      ]
     },
     "execution_count": 41,
     "metadata": {},
     "output_type": "execute_result"
    }
   ],
   "source": [
    "hash(data1['c'])"
   ]
  },
  {
   "cell_type": "code",
   "execution_count": 42,
   "metadata": {},
   "outputs": [
    {
     "data": {
      "text/plain": [
       "'0x7aae5f8f'"
      ]
     },
     "execution_count": 42,
     "metadata": {},
     "output_type": "execute_result"
    }
   ],
   "source": [
    "hex(hash(data1['c']))"
   ]
  },
  {
   "cell_type": "code",
   "execution_count": 44,
   "metadata": {},
   "outputs": [
    {
     "data": {
      "text/plain": [
       "'NEAR_10A'"
      ]
     },
     "execution_count": 44,
     "metadata": {},
     "output_type": "execute_result"
    }
   ],
   "source": [
    "data1['r'].type()"
   ]
  },
  {
   "cell_type": "code",
   "execution_count": 45,
   "metadata": {},
   "outputs": [
    {
     "data": {
      "text/plain": [
       "(b178cb6)-[:NEAR_10A {Dist:3.804978055127255}]->(b047f3d)"
      ]
     },
     "execution_count": 45,
     "metadata": {},
     "output_type": "execute_result"
    }
   ],
   "source": [
    "data1['r']"
   ]
  },
  {
   "cell_type": "code",
   "execution_count": 47,
   "metadata": {},
   "outputs": [
    {
     "data": {
      "text/plain": [
       "{'Dist': 3.804978055127255}"
      ]
     },
     "execution_count": 47,
     "metadata": {},
     "output_type": "execute_result"
    }
   ],
   "source": [
    "dict(data1['r'])"
   ]
  },
  {
   "cell_type": "code",
   "execution_count": null,
   "metadata": {},
   "outputs": [],
   "source": []
  }
 ],
 "metadata": {
  "kernelspec": {
   "display_name": "Python 2",
   "language": "python",
   "name": "python2"
  },
  "language_info": {
   "codemirror_mode": {
    "name": "ipython",
    "version": 2
   },
   "file_extension": ".py",
   "mimetype": "text/x-python",
   "name": "python",
   "nbconvert_exporter": "python",
   "pygments_lexer": "ipython2",
   "version": "2.7.6"
  }
 },
 "nbformat": 4,
 "nbformat_minor": 0
}
