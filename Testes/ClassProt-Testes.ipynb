{
 "cells": [
  {
   "cell_type": "heading",
   "metadata": {},
   "level": 2,
   "source": []
  },
  {
   "cell_type": "code",
   "execution_count": 2,
   "metadata": {
    "collapsed": true
   },
   "outputs": [],
   "source": [
    "from py2neo import *\n"
   ]
  },
  {
   "cell_type": "code",
   "execution_count": 3,
   "metadata": {},
   "outputs": [],
   "source": [
    "authenticate(\"localhost:7474\",\"neo4j\",\"pxyon123\")\n",
    "\n",
    "graph = Graph()"
   ]
  },
  {
   "cell_type": "code",
   "execution_count": 23,
   "metadata": {},
   "outputs": [
    {
     "data": {
      "text/plain": [
       "[{'c': 9203, 'd': 9204, 'r': 47013},\n {'c': 9203, 'd': 9240, 'r': 47021},\n {'c': 9203, 'd': 9202, 'r': 47003},\n {'c': 9186, 'd': 9185, 'r': 46927},\n {'c': 9186, 'd': 9187, 'r': 46929},\n {'c': 9228, 'd': 9229, 'r': 47132},\n {'c': 9228, 'd': 9227, 'r': 47128},\n {'c': 9245, 'd': 9244, 'r': 47174},\n {'c': 9245, 'd': 9246, 'r': 47178},\n {'c': 9234, 'd': 9233, 'r': 47142}]"
      ]
     },
     "execution_count": 23,
     "metadata": {},
     "output_type": "execute_result"
    }
   ],
   "source": [
    "res = graph.data(\"\"\"\n",
    "MATCH (c:CAlpha {IdPDB:'5O75'})-[r:NEAR_10A]-(d) \n",
    "WHERE r.Dist<=5 \n",
    "return id(c) as c,id(r) as r,id(d) as d limit 10\n",
    "\"\"\")\n",
    "res\n"
   ]
  },
  {
   "cell_type": "code",
   "execution_count": 15,
   "metadata": {},
   "outputs": [],
   "source": [
    "import networkx as nx\n"
   ]
  },
  {
   "cell_type": "code",
   "execution_count": 16,
   "metadata": {},
   "outputs": [],
   "source": [
    "g = nx.Graph()"
   ]
  },
  {
   "cell_type": "code",
   "execution_count": 29,
   "metadata": {},
   "outputs": [
    {
     "data": {
      "text/plain": [
       "[{'c': 9203, 'd': 9204, 'dist': 3.7947255500233488, 'r': 47013},\n {'c': 9203, 'd': 9240, 'dist': 4.641224407416647, 'r': 47021},\n {'c': 9203, 'd': 9202, 'dist': 3.799291512900795, 'r': 47003},\n {'c': 9186, 'd': 9185, 'dist': 3.8061417472290784, 'r': 46927}]"
      ]
     },
     "execution_count": 29,
     "metadata": {},
     "output_type": "execute_result"
    }
   ],
   "source": [
    "res = graph.data(\"\"\"\n",
    "MATCH (c:CAlpha {IdPDB:'5O75'})-[r:NEAR_10A]-(d) \n",
    "WHERE r.Dist<=5 \n",
    "return id(c) as c, id(r) as r, id(d) as d, r.Dist as dist  \n",
    "LIMIT 4\n",
    "\"\"\")\n",
    "res\n"
   ]
  },
  {
   "cell_type": "code",
   "execution_count": 14,
   "metadata": {},
   "outputs": [],
   "source": [
    "import py2neo as pn"
   ]
  },
  {
   "cell_type": "code",
   "execution_count": 18,
   "metadata": {},
   "outputs": [
    {
     "data": {
      "text/plain": [
       "(befd7c0:CAlpha {AtomSerial:10,Coords:[26.857,49.58,93.081],IdPDB:\"5O75\",ResName:\"ALA\",ResSeq:1099})"
      ]
     },
     "execution_count": 18,
     "metadata": {},
     "output_type": "execute_result"
    }
   ],
   "source": [
    "graph.node(8045)"
   ]
  },
  {
   "cell_type": "code",
   "execution_count": 17,
   "metadata": {},
   "outputs": [
    {
     "data": {
      "text/plain": [
       "py2neo.types.Node"
      ]
     },
     "execution_count": 17,
     "metadata": {},
     "output_type": "execute_result"
    }
   ],
   "source": [
    "type(graph.node(6817))"
   ]
  },
  {
   "cell_type": "code",
   "execution_count": 28,
   "metadata": {},
   "outputs": [
    {
     "data": {
      "text/plain": [
       "dict"
      ]
     },
     "execution_count": 28,
     "metadata": {},
     "output_type": "execute_result"
    }
   ],
   "source": [
    "type(res[0])"
   ]
  },
  {
   "cell_type": "code",
   "execution_count": 37,
   "metadata": {},
   "outputs": [
    {
     "data": {
      "text/plain": [
       "9203"
      ]
     },
     "execution_count": 37,
     "metadata": {},
     "output_type": "execute_result"
    }
   ],
   "source": [
    "res[0]['c']"
   ]
  },
  {
   "cell_type": "code",
   "execution_count": 39,
   "metadata": {},
   "outputs": [
    {
     "data": {
      "text/plain": [
       "(cc33712:CAlpha {AtomSerial:145,Coords:[11.533,43.199,86.29],IdPDB:\"5O75\",ResName:\"VAL\",ResSeq:1116})"
      ]
     },
     "execution_count": 39,
     "metadata": {},
     "output_type": "execute_result"
    }
   ],
   "source": [
    "nodec = graph.node( res[0]['c'] )\n",
    "nodec"
   ]
  },
  {
   "cell_type": "code",
   "execution_count": 43,
   "metadata": {},
   "outputs": [
    {
     "data": {
      "text/plain": [
       "(cc33712)-[:NEAR_10A {Dist:3.7947255500233488}]->(bbe870e)"
      ]
     },
     "execution_count": 43,
     "metadata": {},
     "output_type": "execute_result"
    }
   ],
   "source": [
    "rel1 = graph.relationship( res[0]['r'] )\n",
    "rel1"
   ]
  },
  {
   "cell_type": "code",
   "execution_count": 44,
   "metadata": {},
   "outputs": [
    {
     "data": {
      "text/plain": [
       "3.7947255500233488"
      ]
     },
     "execution_count": 44,
     "metadata": {},
     "output_type": "execute_result"
    }
   ],
   "source": [
    "rel1['Dist']"
   ]
  },
  {
   "cell_type": "code",
   "execution_count": 21,
   "metadata": {},
   "outputs": [
    {
     "data": {
      "text/plain": [
       "[{'id(c)': 6817, 'id(d)': 6818, 'id(r)': 32340},\n {'id(c)': 6818, 'id(d)': 6817, 'id(r)': 32340},\n {'id(c)': 6818, 'id(d)': 6819, 'id(r)': 32342},\n {'id(c)': 6819, 'id(d)': 6818, 'id(r)': 32342}]"
      ]
     },
     "execution_count": 21,
     "metadata": {},
     "output_type": "execute_result"
    }
   ],
   "source": [
    "graph.data(\"MATCH (c:CAlpha {IdPDB:'5O75'})-[r:NEAR_10A]-(d) WHERE r.Dist<=5 return id(c), id(r),id(d) limit 4\")\n"
   ]
  },
  {
   "cell_type": "code",
   "execution_count": 22,
   "metadata": {},
   "outputs": [],
   "source": [
    "c1 = graph.node(6817)"
   ]
  },
  {
   "cell_type": "code",
   "execution_count": 23,
   "metadata": {},
   "outputs": [],
   "source": [
    "c2 = graph.node(6818)"
   ]
  },
  {
   "cell_type": "code",
   "execution_count": 24,
   "metadata": {},
   "outputs": [],
   "source": [
    "c2 = graph.node(6819)"
   ]
  },
  {
   "cell_type": "code",
   "execution_count": 25,
   "metadata": {},
   "outputs": [],
   "source": [
    "r1 = graph.relationship(32340)"
   ]
  },
  {
   "cell_type": "code",
   "execution_count": 26,
   "metadata": {},
   "outputs": [],
   "source": [
    "r1 = graph.relationship(32342)"
   ]
  },
  {
   "cell_type": "code",
   "execution_count": 27,
   "metadata": {},
   "outputs": [
    {
     "data": {
      "text/plain": [
       "(efba878)-[:NEAR_10A {Dist:3.818972767643153}]->(ee1b5b7)"
      ]
     },
     "execution_count": 27,
     "metadata": {},
     "output_type": "execute_result"
    }
   ],
   "source": [
    "r1"
   ]
  },
  {
   "cell_type": "code",
   "execution_count": 30,
   "metadata": {},
   "outputs": [
    {
     "data": {
      "text/plain": [
       "py2neo.types.Relationship"
      ]
     },
     "execution_count": 30,
     "metadata": {},
     "output_type": "execute_result"
    }
   ],
   "source": [
    "type(r1)"
   ]
  },
  {
   "cell_type": "code",
   "execution_count": 31,
   "metadata": {},
   "outputs": [
    {
     "data": {
      "text/plain": [
       "{'Dist': 3.818972767643153}"
      ]
     },
     "execution_count": 31,
     "metadata": {},
     "output_type": "execute_result"
    }
   ],
   "source": [
    "dict(r1)"
   ]
  },
  {
   "cell_type": "code",
   "execution_count": 32,
   "metadata": {},
   "outputs": [
    {
     "data": {
      "text/plain": [
       "1"
      ]
     },
     "execution_count": 32,
     "metadata": {},
     "output_type": "execute_result"
    }
   ],
   "source": [
    "len(r1)"
   ]
  },
  {
   "cell_type": "code",
   "execution_count": 34,
   "metadata": {},
   "outputs": [
    {
     "data": {
      "text/plain": [
       "3.818972767643153"
      ]
     },
     "execution_count": 34,
     "metadata": {},
     "output_type": "execute_result"
    }
   ],
   "source": [
    "r1['Dist']"
   ]
  },
  {
   "cell_type": "code",
   "execution_count": 35,
   "metadata": {},
   "outputs": [],
   "source": [
    "g.add_edge(c1, c2, Dist=r1['Dist'] )"
   ]
  },
  {
   "cell_type": "code",
   "execution_count": 36,
   "metadata": {},
   "outputs": [
    {
     "data": {
      "text/plain": [
       "NodeView(((ca4c177:CAlpha {AtomSerial:2,Coords:[30.306,48.913,94.546],IdPDB:\"5O75\",ResName:\"ASP\",ResSeq:1098}), (ee1b5b7:CAlpha {AtomSerial:15,Coords:[23.855,51.462,94.506],IdPDB:\"5O75\",ResName:\"PRO\",ResSeq:1100})))"
      ]
     },
     "execution_count": 36,
     "metadata": {},
     "output_type": "execute_result"
    }
   ],
   "source": [
    "g.nodes()"
   ]
  },
  {
   "cell_type": "code",
   "execution_count": 37,
   "metadata": {},
   "outputs": [
    {
     "data": {
      "text/plain": [
       "EdgeView([((ca4c177:CAlpha {AtomSerial:2,Coords:[30.306,48.913,94.546],IdPDB:\"5O75\",ResName:\"ASP\",ResSeq:1098}), (ee1b5b7:CAlpha {AtomSerial:15,Coords:[23.855,51.462,94.506],IdPDB:\"5O75\",ResName:\"PRO\",ResSeq:1100}))])"
      ]
     },
     "execution_count": 37,
     "metadata": {},
     "output_type": "execute_result"
    }
   ],
   "source": [
    "g.edges()"
   ]
  },
  {
   "cell_type": "code",
   "execution_count": 39,
   "metadata": {},
   "outputs": [],
   "source": [
    "g.add_edge(c1, c2, weight=r1['Dist'])"
   ]
  },
  {
   "cell_type": "code",
   "execution_count": 40,
   "metadata": {
    "collapsed": true
   },
   "outputs": [
    {
     "data": {
      "text/plain": [
       "EdgeView([((ca4c177:CAlpha {AtomSerial:2,Coords:[30.306,48.913,94.546],IdPDB:\"5O75\",ResName:\"ASP\",ResSeq:1098}), (ee1b5b7:CAlpha {AtomSerial:15,Coords:[23.855,51.462,94.506],IdPDB:\"5O75\",ResName:\"PRO\",ResSeq:1100}))])"
      ]
     },
     "execution_count": 40,
     "metadata": {},
     "output_type": "execute_result"
    }
   ],
   "source": [
    "g.edges()"
   ]
  },
  {
   "cell_type": "code",
   "execution_count": 44,
   "metadata": {},
   "outputs": [
    {
     "data": {
      "text/plain": [
       "{((ca4c177:CAlpha {AtomSerial:2,Coords:[30.306,48.913,94.546],IdPDB:\"5O75\",ResName:\"ASP\",ResSeq:1098}),\n  (ee1b5b7:CAlpha {AtomSerial:15,Coords:[23.855,51.462,94.506],IdPDB:\"5O75\",ResName:\"PRO\",ResSeq:1100})): 3.818972767643153}"
      ]
     },
     "execution_count": 44,
     "metadata": {},
     "output_type": "execute_result"
    }
   ],
   "source": [
    "nx.get_edge_attributes(g,'weight')"
   ]
  },
  {
   "cell_type": "code",
   "execution_count": 42,
   "metadata": {},
   "outputs": [
    {
     "data": {
      "text/plain": [
       "float"
      ]
     },
     "execution_count": 42,
     "metadata": {},
     "output_type": "execute_result"
    }
   ],
   "source": [
    "type(r1['Dist'])"
   ]
  },
  {
   "cell_type": "code",
   "execution_count": 43,
   "metadata": {},
   "outputs": [
    {
     "data": {
      "text/plain": [
       "EdgeDataView([((ca4c177:CAlpha {AtomSerial:2,Coords:[30.306,48.913,94.546],IdPDB:\"5O75\",ResName:\"ASP\",ResSeq:1098}), (ee1b5b7:CAlpha {AtomSerial:15,Coords:[23.855,51.462,94.506],IdPDB:\"5O75\",ResName:\"PRO\",ResSeq:1100}), 3.818972767643153)])"
      ]
     },
     "execution_count": 43,
     "metadata": {},
     "output_type": "execute_result"
    }
   ],
   "source": [
    "g.edges.data('weight')"
   ]
  },
  {
   "cell_type": "code",
   "execution_count": 45,
   "metadata": {},
   "outputs": [
    {
     "data": {
      "text/plain": [
       "3.818972767643153"
      ]
     },
     "execution_count": 45,
     "metadata": {},
     "output_type": "execute_result"
    }
   ],
   "source": [
    "g[c1][c2]['weight']"
   ]
  },
  {
   "cell_type": "code",
   "execution_count": 46,
   "metadata": {},
   "outputs": [
    {
     "data": {
      "text/plain": [
       "AtlasView({(ee1b5b7:CAlpha {AtomSerial:15,Coords:[23.855,51.462,94.506],IdPDB:\"5O75\",ResName:\"PRO\",ResSeq:1100}): {'Dist': 3.818972767643153, 'weight': 3.818972767643153}})"
      ]
     },
     "execution_count": 46,
     "metadata": {},
     "output_type": "execute_result"
    }
   ],
   "source": [
    "g[c1]"
   ]
  },
  {
   "cell_type": "code",
   "execution_count": 55,
   "metadata": {},
   "outputs": [
    {
     "data": {
      "image/png": "[encoded data removed]",
      "text/plain": [
       "<matplotlib.figure.Figure at 0x26cbe869f60>"
      ]
     },
     "metadata": {},
     "output_type": "display_data"
    }
   ],
   "source": [
    "nx.draw(g, with_labels=True)"
   ]
  },
  {
   "cell_type": "code",
   "execution_count": 50,
   "metadata": {},
   "outputs": [],
   "source": [
    "gex=nx.Graph()\n"
   ]
  },
  {
   "cell_type": "code",
   "execution_count": 52,
   "metadata": {},
   "outputs": [],
   "source": [
    "gex.add_nodes_from(range(100, 110))"
   ]
  },
  {
   "cell_type": "code",
   "execution_count": 53,
   "metadata": {},
   "outputs": [
    {
     "data": {
      "image/png": "[encoded data removed]",
      "text/plain": [
       "<matplotlib.figure.Figure at 0x26cbe7f5be0>"
      ]
     },
     "metadata": {},
     "output_type": "display_data"
    }
   ],
   "source": [
    "nx.draw(gex)"
   ]
  },
  {
   "cell_type": "code",
   "execution_count": 19,
   "metadata": {},
   "outputs": [
    {
     "data": {
      "text/plain": [
       "EdgeDataView([])"
      ]
     },
     "execution_count": 19,
     "metadata": {},
     "output_type": "execute_result"
    }
   ],
   "source": [
    "g.edges(data=True)"
   ]
  },
  {
   "cell_type": "code",
   "execution_count": 58,
   "metadata": {},
   "outputs": [],
   "source": [
    "labels = {}\n",
    "for n in g.nodes():\n",
    "\tlabels[n] = n['ResSeq']"
   ]
  },
  {
   "cell_type": "code",
   "execution_count": 59,
   "metadata": {},
   "outputs": [
    {
     "data": {
      "text/plain": [
       "{(ca4c177:CAlpha {AtomSerial:2,Coords:[30.306,48.913,94.546],IdPDB:\"5O75\",ResName:\"ASP\",ResSeq:1098}): 1098,\n (ee1b5b7:CAlpha {AtomSerial:15,Coords:[23.855,51.462,94.506],IdPDB:\"5O75\",ResName:\"PRO\",ResSeq:1100}): 1100}"
      ]
     },
     "execution_count": 59,
     "metadata": {},
     "output_type": "execute_result"
    }
   ],
   "source": [
    "labels"
   ]
  },
  {
   "cell_type": "code",
   "execution_count": 69,
   "metadata": {},
   "outputs": [],
   "source": [
    "pos = nx.circular_layout(g)"
   ]
  },
  {
   "cell_type": "code",
   "execution_count": 70,
   "metadata": {
    "collapsed": false
   },
   "outputs": [
    {
     "data": {
      "text/plain": [
       "{(ca4c177:CAlpha {AtomSerial:2,Coords:[30.306,48.913,94.546],IdPDB:\"5O75\",ResName:\"ASP\",ResSeq:1098}): Text(1,4.37114e-08,'1098'),\n (ee1b5b7:CAlpha {AtomSerial:15,Coords:[23.855,51.462,94.506],IdPDB:\"5O75\",ResName:\"PRO\",ResSeq:1100}): Text(-1,-4.37114e-08,'1100')}"
      ]
     },
     "execution_count": 70,
     "metadata": {},
     "output_type": "execute_result"
    },
    {
     "data": {
      "image/png": "[encoded data removed]",
      "text/plain": [
       "<matplotlib.figure.Figure at 0x26cbe862c88>"
      ]
     },
     "metadata": {},
     "output_type": "display_data"
    }
   ],
   "source": [
    "nx.draw(g)\n",
    "nx.draw_networkx_labels(g,pos,labels,font_size=16,font_color='b')"
   ]
  },
  {
   "cell_type": "code",
   "execution_count": 62,
   "metadata": {
    "collapsed": true
   },
   "outputs": [
    {
     "data": {
      "text/plain": [
       "{(ca4c177:CAlpha {AtomSerial:2,Coords:[30.306,48.913,94.546],IdPDB:\"5O75\",ResName:\"ASP\",ResSeq:1098}): array([-1.        ,  0.63958321]),\n (ee1b5b7:CAlpha {AtomSerial:15,Coords:[23.855,51.462,94.506],IdPDB:\"5O75\",ResName:\"PRO\",ResSeq:1100}): array([ 1.        , -0.63958321])}"
      ]
     },
     "execution_count": 62,
     "metadata": {},
     "output_type": "execute_result"
    }
   ],
   "source": [
    "pos"
   ]
  },
  {
   "cell_type": "code",
   "execution_count": null,
   "metadata": {},
   "outputs": [],
   "source": []
  }
 ],
 "metadata": {
  "kernelspec": {
   "display_name": "Python 2",
   "language": "python",
   "name": "python2"
  },
  "language_info": {
   "codemirror_mode": {
    "name": "ipython",
    "version": 2
   },
   "file_extension": ".py",
   "mimetype": "text/x-python",
   "name": "python",
   "nbconvert_exporter": "python",
   "pygments_lexer": "ipython2",
   "version": "2.7.6"
  }
 },
 "nbformat": 4,
 "nbformat_minor": 0
}
